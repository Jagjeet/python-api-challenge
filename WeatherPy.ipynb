{
 "cells": [
  {
   "cell_type": "markdown",
   "metadata": {},
   "source": [
    "# WeatherPy\n",
    "----\n",
    "\n",
    "#### Note\n",
    "* Instructions have been included for each segment. You do not have to follow them exactly, but they are included to help you think through the steps."
   ]
  },
  {
   "cell_type": "code",
   "execution_count": 229,
   "metadata": {
    "scrolled": true
   },
   "outputs": [],
   "source": [
    "# Dependencies and Setup\n",
    "import matplotlib.pyplot as plt\n",
    "import pandas as pd\n",
    "import numpy as np\n",
    "import requests\n",
    "import time\n",
    "from scipy.stats import linregress\n",
    "\n",
    "# Import API key\n",
    "from api_keys import weather_api_key\n",
    "\n",
    "# Incorporated citipy to determine city based on latitude and longitude\n",
    "from citipy import citipy\n",
    "\n",
    "# Output File (CSV)\n",
    "output_data_file = \"output_data/cities.csv\"\n",
    "\n",
    "# Range of latitudes and longitudes\n",
    "lat_range = (-90, 90)\n",
    "lng_range = (-180, 180)"
   ]
  },
  {
   "cell_type": "markdown",
   "metadata": {},
   "source": [
    "## Generate Cities List"
   ]
  },
  {
   "cell_type": "code",
   "execution_count": 230,
   "metadata": {},
   "outputs": [
    {
     "data": {
      "text/plain": [
       "596"
      ]
     },
     "execution_count": 230,
     "metadata": {},
     "output_type": "execute_result"
    }
   ],
   "source": [
    "# List for holding lat_lngs and cities\n",
    "lat_lngs = []\n",
    "cities = []\n",
    "\n",
    "# Create a set of random lat and lng combinations\n",
    "lats = np.random.uniform(lat_range[0], lat_range[1], size=1500)\n",
    "lngs = np.random.uniform(lng_range[0], lng_range[1], size=1500)\n",
    "lat_lngs = zip(lats, lngs)\n",
    "\n",
    "# Identify nearest city for each lat, lng combination\n",
    "for lat_lng in lat_lngs:\n",
    "    city = citipy.nearest_city(lat_lng[0], lat_lng[1]).city_name\n",
    "    \n",
    "    # If the city is unique, then add it to a our cities list\n",
    "    if city not in cities:\n",
    "        cities.append(city)\n",
    "\n",
    "# Print the city count to confirm sufficient count\n",
    "len(cities)"
   ]
  },
  {
   "cell_type": "markdown",
   "metadata": {},
   "source": [
    "### Perform API Calls\n",
    "* Perform a weather check on each city using a series of successive API calls.\n",
    "* Include a print log of each city as it'sbeing processed (with the city number and city name).\n"
   ]
  },
  {
   "cell_type": "code",
   "execution_count": 231,
   "metadata": {
    "scrolled": true
   },
   "outputs": [
    {
     "name": "stdout",
     "output_type": "stream",
     "text": [
      "Processing Record 1 of Set 1 | lorengau\n",
      "Processing Record 2 of Set 1 | rikitea\n",
      "Processing Record 3 of Set 1 | nanortalik\n",
      "Processing Record 4 of Set 1 | hithadhoo\n",
      "Processing Record 5 of Set 1 | avarua\n",
      "Processing Record 6 of Set 1 | kubanskiy\n",
      "Processing Record 7 of Set 1 | busselton\n",
      "Processing Record 8 of Set 1 | khatanga\n",
      "Processing Record 9 of Set 1 | muros\n",
      "Processing Record 10 of Set 1 | east london\n",
      "Processing Record 11 of Set 1 | virginia beach\n",
      "Processing Record 12 of Set 1 | tuatapere\n",
      "Processing Record 13 of Set 1 | sitka\n",
      "Processing Record 14 of Set 1 | hobart\n",
      "Processing Record 15 of Set 1 | bluff\n",
      "Processing Record 16 of Set 1 | caravelas\n",
      "Processing Record 17 of Set 1 | newport\n",
      "Processing Record 18 of Set 1 | yulara\n",
      "Processing Record 19 of Set 1 | butaritari\n",
      "Processing Record 20 of Set 1 | russell\n",
      "Processing Record 21 of Set 1 | punta arenas\n",
      "Processing Record 22 of Set 1 | mahebourg\n",
      "City 'taolanaro' not found. Skipping...\n",
      "Processing Record 23 of Set 1 | cape town\n",
      "Processing Record 24 of Set 1 | salaya\n",
      "Processing Record 25 of Set 1 | plerin\n",
      "Processing Record 26 of Set 1 | hilo\n",
      "Processing Record 27 of Set 1 | cidreira\n",
      "Processing Record 28 of Set 1 | lebu\n",
      "Processing Record 29 of Set 1 | hasaki\n",
      "Processing Record 30 of Set 1 | carutapera\n",
      "Processing Record 31 of Set 1 | hamilton\n",
      "Processing Record 32 of Set 1 | fortuna\n",
      "Processing Record 33 of Set 1 | jamestown\n",
      "Processing Record 34 of Set 1 | lata\n",
      "Processing Record 35 of Set 1 | ajdabiya\n",
      "Processing Record 36 of Set 1 | henties bay\n",
      "Processing Record 37 of Set 1 | atuona\n",
      "Processing Record 38 of Set 1 | mount gambier\n",
      "Processing Record 39 of Set 1 | kongoussi\n",
      "City 'karakendzha' not found. Skipping...\n",
      "Processing Record 40 of Set 1 | hambantota\n",
      "Processing Record 41 of Set 1 | nikolskoye\n",
      "Processing Record 42 of Set 1 | saint-philippe\n",
      "Processing Record 43 of Set 1 | portland\n",
      "Processing Record 44 of Set 1 | tianpeng\n",
      "Processing Record 45 of Set 1 | port alfred\n",
      "Processing Record 46 of Set 1 | zvenyhorodka\n",
      "Processing Record 47 of Set 1 | hermanus\n",
      "Processing Record 48 of Set 1 | sobolevo\n",
      "Processing Record 49 of Set 1 | namibe\n",
      "Processing Record 50 of Set 1 | durres\n",
      "Processing Record 1 of Set 2 | mataura\n",
      "Processing Record 2 of Set 2 | ribeira grande\n",
      "Processing Record 3 of Set 2 | albany\n",
      "City 'rawannawi' not found. Skipping...\n",
      "Processing Record 4 of Set 2 | fukue\n",
      "Processing Record 5 of Set 2 | korla\n",
      "City 'belushya guba' not found. Skipping...\n",
      "Processing Record 6 of Set 2 | moosomin\n",
      "Processing Record 7 of Set 2 | qaanaaq\n",
      "Processing Record 8 of Set 2 | erzin\n",
      "Processing Record 9 of Set 2 | ushuaia\n",
      "Processing Record 10 of Set 2 | meulaboh\n",
      "Processing Record 11 of Set 2 | port hardy\n",
      "Processing Record 12 of Set 2 | acandi\n",
      "Processing Record 13 of Set 2 | aykhal\n",
      "Processing Record 14 of Set 2 | mar del plata\n",
      "Processing Record 15 of Set 2 | geraldton\n",
      "Processing Record 16 of Set 2 | portel\n",
      "Processing Record 17 of Set 2 | mongo\n",
      "Processing Record 18 of Set 2 | fairbanks\n",
      "Processing Record 19 of Set 2 | saint-pierre\n",
      "City 'galgani' not found. Skipping...\n",
      "City 'saleaula' not found. Skipping...\n",
      "Processing Record 20 of Set 2 | abu samrah\n",
      "Processing Record 21 of Set 2 | asfi\n",
      "Processing Record 22 of Set 2 | new norfolk\n",
      "Processing Record 23 of Set 2 | kamina\n",
      "Processing Record 24 of Set 2 | rovaniemi\n",
      "Processing Record 25 of Set 2 | luderitz\n",
      "Processing Record 26 of Set 2 | longyearbyen\n",
      "Processing Record 27 of Set 2 | bismarck\n",
      "City 'illoqqortoormiut' not found. Skipping...\n",
      "Processing Record 28 of Set 2 | lagoa\n",
      "Processing Record 29 of Set 2 | katsuura\n",
      "Processing Record 30 of Set 2 | port hedland\n",
      "Processing Record 31 of Set 2 | ilulissat\n",
      "City 'tsihombe' not found. Skipping...\n",
      "Processing Record 32 of Set 2 | peniche\n",
      "Processing Record 33 of Set 2 | scottsbluff\n",
      "Processing Record 34 of Set 2 | palu\n",
      "Processing Record 35 of Set 2 | aklavik\n",
      "Processing Record 36 of Set 2 | bethel\n",
      "Processing Record 37 of Set 2 | tambacounda\n",
      "Processing Record 38 of Set 2 | alyangula\n",
      "Processing Record 39 of Set 2 | bambous virieux\n",
      "Processing Record 40 of Set 2 | banda aceh\n",
      "City 'barentsburg' not found. Skipping...\n",
      "City 'lolua' not found. Skipping...\n",
      "Processing Record 41 of Set 2 | tabuleiro do norte\n",
      "Processing Record 42 of Set 2 | palmer\n",
      "Processing Record 43 of Set 2 | bagdarin\n",
      "Processing Record 44 of Set 2 | pontianak\n",
      "City 'macaboboni' not found. Skipping...\n",
      "Processing Record 45 of Set 2 | sao raimundo das mangabeiras\n",
      "Processing Record 46 of Set 2 | sapa\n",
      "Processing Record 47 of Set 2 | constitucion\n",
      "Processing Record 48 of Set 2 | flinders\n",
      "Processing Record 49 of Set 2 | kavieng\n",
      "Processing Record 50 of Set 2 | cosala\n",
      "Processing Record 1 of Set 3 | dikson\n",
      "Processing Record 2 of Set 3 | mormugao\n",
      "Processing Record 3 of Set 3 | batagay-alyta\n",
      "Processing Record 4 of Set 3 | kapaa\n",
      "Processing Record 5 of Set 3 | puerto ayora\n",
      "Processing Record 6 of Set 3 | kathu\n",
      "Processing Record 7 of Set 3 | esmeraldas\n",
      "Processing Record 8 of Set 3 | kharp\n",
      "Processing Record 9 of Set 3 | castro\n",
      "Processing Record 10 of Set 3 | bredasdorp\n",
      "Processing Record 11 of Set 3 | provideniya\n",
      "Processing Record 12 of Set 3 | puerto escondido\n",
      "Processing Record 13 of Set 3 | port elizabeth\n",
      "City 'jinchengjiang' not found. Skipping...\n",
      "Processing Record 14 of Set 3 | bayji\n",
      "Processing Record 15 of Set 3 | bowen\n",
      "City 'nizhneyansk' not found. Skipping...\n",
      "City 'umzimvubu' not found. Skipping...\n",
      "Processing Record 16 of Set 3 | pisco\n",
      "Processing Record 17 of Set 3 | malinovskiy\n",
      "Processing Record 18 of Set 3 | chiredzi\n",
      "Processing Record 19 of Set 3 | avera\n",
      "Processing Record 20 of Set 3 | isangel\n",
      "Processing Record 21 of Set 3 | onega\n",
      "City 'dianopolis' not found. Skipping...\n",
      "Processing Record 22 of Set 3 | toyota\n",
      "Processing Record 23 of Set 3 | te anau\n",
      "Processing Record 24 of Set 3 | kemijarvi\n",
      "Processing Record 25 of Set 3 | iqaluit\n",
      "Processing Record 26 of Set 3 | barrow\n",
      "Processing Record 27 of Set 3 | port lincoln\n",
      "Processing Record 28 of Set 3 | chuy\n",
      "Processing Record 29 of Set 3 | wuwei\n",
      "Processing Record 30 of Set 3 | alta gracia\n",
      "Processing Record 31 of Set 3 | vestmannaeyjar\n",
      "Processing Record 32 of Set 3 | severnyy\n",
      "Processing Record 33 of Set 3 | kodiak\n",
      "Processing Record 34 of Set 3 | souillac\n",
      "Processing Record 35 of Set 3 | fort nelson\n",
      "Processing Record 36 of Set 3 | jacareacanga\n",
      "Processing Record 37 of Set 3 | mezen\n",
      "City 'urdzhar' not found. Skipping...\n",
      "Processing Record 38 of Set 3 | udachnyy\n",
      "Processing Record 39 of Set 3 | okha\n",
      "City 'grand river south east' not found. Skipping...\n",
      "Processing Record 40 of Set 3 | leningradskiy\n",
      "Processing Record 41 of Set 3 | tiksi\n",
      "Processing Record 42 of Set 3 | dabrowa tarnowska\n",
      "Processing Record 43 of Set 3 | urusha\n",
      "Processing Record 44 of Set 3 | tiarei\n",
      "Processing Record 45 of Set 3 | salalah\n",
      "Processing Record 46 of Set 3 | carnarvon\n",
      "Processing Record 47 of Set 3 | piterka\n",
      "Processing Record 48 of Set 3 | nishihara\n",
      "Processing Record 49 of Set 3 | kaitangata\n",
      "Processing Record 50 of Set 3 | santona\n",
      "Processing Record 1 of Set 4 | kangaatsiaq\n",
      "Processing Record 2 of Set 4 | ancud\n",
      "Processing Record 3 of Set 4 | vaini\n",
      "Processing Record 4 of Set 4 | cayenne\n",
      "Processing Record 5 of Set 4 | vysokogornyy\n",
      "Processing Record 6 of Set 4 | lishui\n",
      "Processing Record 7 of Set 4 | loiza\n",
      "Processing Record 8 of Set 4 | vila velha\n",
      "Processing Record 9 of Set 4 | nevsehir\n",
      "Processing Record 10 of Set 4 | grindavik\n",
      "Processing Record 11 of Set 4 | ponta do sol\n",
      "Processing Record 12 of Set 4 | torbay\n",
      "City 'tumannyy' not found. Skipping...\n",
      "Processing Record 13 of Set 4 | san quintin\n",
      "Processing Record 14 of Set 4 | kalcheva\n",
      "Processing Record 15 of Set 4 | chokurdakh\n",
      "City 'ngukurr' not found. Skipping...\n",
      "Processing Record 16 of Set 4 | helong\n",
      "Processing Record 17 of Set 4 | lakes entrance\n",
      "Processing Record 18 of Set 4 | urumqi\n",
      "Processing Record 19 of Set 4 | arraial do cabo\n",
      "City 'othonoi' not found. Skipping...\n",
      "Processing Record 20 of Set 4 | yangshe\n",
      "Processing Record 21 of Set 4 | bahia blanca\n",
      "Processing Record 22 of Set 4 | port augusta\n",
      "Processing Record 23 of Set 4 | roros\n",
      "Processing Record 24 of Set 4 | bako\n",
      "Processing Record 25 of Set 4 | lazaro cardenas\n",
      "Processing Record 26 of Set 4 | buala\n",
      "Processing Record 27 of Set 4 | san patricio\n",
      "Processing Record 28 of Set 4 | kununurra\n",
      "Processing Record 29 of Set 4 | burns lake\n",
      "City 'mocambique' not found. Skipping...\n",
      "Processing Record 30 of Set 4 | san policarpo\n",
      "Processing Record 31 of Set 4 | esperance\n",
      "Processing Record 32 of Set 4 | karratha\n",
      "Processing Record 33 of Set 4 | dhidhdhoo\n",
      "Processing Record 34 of Set 4 | san clemente\n",
      "Processing Record 35 of Set 4 | lask\n",
      "Processing Record 36 of Set 4 | severo-kurilsk\n",
      "Processing Record 37 of Set 4 | calvinia\n",
      "Processing Record 38 of Set 4 | kuala sungai baru\n",
      "Processing Record 39 of Set 4 | andenes\n",
      "Processing Record 40 of Set 4 | mega\n",
      "City 'attawapiskat' not found. Skipping...\n",
      "Processing Record 41 of Set 4 | cherskiy\n",
      "Processing Record 42 of Set 4 | maningrida\n",
      "Processing Record 43 of Set 4 | tuktoyaktuk\n",
      "Processing Record 44 of Set 4 | suntar\n",
      "Processing Record 45 of Set 4 | trinidad\n",
      "Processing Record 46 of Set 4 | ixtapa\n",
      "Processing Record 47 of Set 4 | novorzhev\n",
      "Processing Record 48 of Set 4 | san cristobal\n",
      "Processing Record 49 of Set 4 | asau\n",
      "Processing Record 50 of Set 4 | husavik\n",
      "Processing Record 1 of Set 5 | bubaque\n",
      "Processing Record 2 of Set 5 | turayf\n",
      "Processing Record 3 of Set 5 | northam\n",
      "Processing Record 4 of Set 5 | islamkot\n",
      "Processing Record 5 of Set 5 | nome\n",
      "Processing Record 6 of Set 5 | yellowknife\n",
      "City 'aflu' not found. Skipping...\n",
      "Processing Record 7 of Set 5 | mahon\n",
      "Processing Record 8 of Set 5 | sungairaya\n",
      "Processing Record 9 of Set 5 | okato\n",
      "Processing Record 10 of Set 5 | ormara\n",
      "Processing Record 11 of Set 5 | jesup\n",
      "Processing Record 12 of Set 5 | ostrovnoy\n",
      "Processing Record 13 of Set 5 | bo phloi\n",
      "Processing Record 14 of Set 5 | komsomolskiy\n",
      "Processing Record 15 of Set 5 | wanning\n",
      "Processing Record 16 of Set 5 | havelock\n",
      "Processing Record 17 of Set 5 | coquimbo\n",
      "City 'ozgon' not found. Skipping...\n",
      "Processing Record 18 of Set 5 | talnakh\n",
      "Processing Record 19 of Set 5 | sungaipenuh\n",
      "Processing Record 20 of Set 5 | narsaq\n",
      "Processing Record 21 of Set 5 | kimbe\n",
      "Processing Record 22 of Set 5 | pimentel\n",
      "Processing Record 23 of Set 5 | taft\n",
      "Processing Record 24 of Set 5 | dafeng\n",
      "Processing Record 25 of Set 5 | bam\n",
      "Processing Record 26 of Set 5 | paamiut\n",
      "Processing Record 27 of Set 5 | ruteng\n",
      "City 'vaitupu' not found. Skipping...\n",
      "Processing Record 28 of Set 5 | saint george\n",
      "Processing Record 29 of Set 5 | warrnambool\n",
      "Processing Record 30 of Set 5 | linjiang\n",
      "Processing Record 31 of Set 5 | gat\n",
      "Processing Record 32 of Set 5 | krasnovishersk\n",
      "Processing Record 33 of Set 5 | flin flon\n",
      "Processing Record 34 of Set 5 | teya\n",
      "Processing Record 35 of Set 5 | itaguai\n",
      "Processing Record 36 of Set 5 | tasiilaq\n",
      "Processing Record 37 of Set 5 | boma\n",
      "Processing Record 38 of Set 5 | faanui\n",
      "Processing Record 39 of Set 5 | margate\n",
      "Processing Record 40 of Set 5 | bengkulu\n",
      "Processing Record 41 of Set 5 | hofn\n",
      "Processing Record 42 of Set 5 | upernavik\n",
      "Processing Record 43 of Set 5 | sibolga\n",
      "Processing Record 44 of Set 5 | mehamn\n",
      "Processing Record 45 of Set 5 | comodoro rivadavia\n",
      "Processing Record 46 of Set 5 | tra vinh\n",
      "Processing Record 47 of Set 5 | nouna\n",
      "Processing Record 48 of Set 5 | jalu\n",
      "Processing Record 49 of Set 5 | tual\n",
      "Processing Record 50 of Set 5 | airai\n",
      "Processing Record 1 of Set 6 | hay river\n",
      "Processing Record 2 of Set 6 | coolum beach\n",
      "Processing Record 3 of Set 6 | lompoc\n",
      "Processing Record 4 of Set 6 | kenai\n",
      "Processing Record 5 of Set 6 | amuntai\n",
      "Processing Record 6 of Set 6 | bantry\n",
      "Processing Record 7 of Set 6 | maposeni\n",
      "Processing Record 8 of Set 6 | whitecourt\n",
      "Processing Record 9 of Set 6 | do gonbadan\n",
      "Processing Record 10 of Set 6 | dryden\n",
      "Processing Record 11 of Set 6 | riyadh\n",
      "Processing Record 12 of Set 6 | huautla\n",
      "Processing Record 13 of Set 6 | tan an\n",
      "Processing Record 14 of Set 6 | byron bay\n",
      "Processing Record 15 of Set 6 | inuvik\n",
      "Processing Record 16 of Set 6 | kolokani\n",
      "Processing Record 17 of Set 6 | necochea\n",
      "Processing Record 18 of Set 6 | rio grande\n",
      "Processing Record 19 of Set 6 | santiago\n",
      "Processing Record 20 of Set 6 | tarauaca\n",
      "Processing Record 21 of Set 6 | saskylakh\n",
      "Processing Record 22 of Set 6 | maxixe\n",
      "Processing Record 23 of Set 6 | quang ngai\n",
      "Processing Record 24 of Set 6 | georgetown\n",
      "Processing Record 25 of Set 6 | fort walton beach\n",
      "Processing Record 26 of Set 6 | arlit\n",
      "Processing Record 27 of Set 6 | lavrentiya\n",
      "Processing Record 28 of Set 6 | rio verde de mato grosso\n",
      "Processing Record 29 of Set 6 | chara\n",
      "Processing Record 30 of Set 6 | ludvika\n",
      "Processing Record 31 of Set 6 | abalak\n",
      "Processing Record 32 of Set 6 | vardo\n",
      "Processing Record 33 of Set 6 | hibbing\n",
      "Processing Record 34 of Set 6 | taoudenni\n",
      "Processing Record 35 of Set 6 | launceston\n",
      "Processing Record 36 of Set 6 | acajutla\n",
      "City 'warqla' not found. Skipping...\n",
      "Processing Record 37 of Set 6 | broome\n",
      "Processing Record 38 of Set 6 | biltine\n",
      "Processing Record 39 of Set 6 | tikrit\n",
      "Processing Record 40 of Set 6 | yarmouth\n",
      "Processing Record 41 of Set 6 | yerbogachen\n",
      "Processing Record 42 of Set 6 | shiraz\n",
      "Processing Record 43 of Set 6 | banjarmasin\n",
      "City 'vylgort' not found. Skipping...\n",
      "City 'palabuhanratu' not found. Skipping...\n",
      "Processing Record 44 of Set 6 | bonnyville\n",
      "City 'el buen pastor' not found. Skipping...\n",
      "City 'mys shmidta' not found. Skipping...\n",
      "Processing Record 45 of Set 6 | bilibino\n",
      "Processing Record 46 of Set 6 | nantucket\n",
      "Processing Record 47 of Set 6 | kungurtug\n",
      "Processing Record 48 of Set 6 | pangnirtung\n",
      "Processing Record 49 of Set 6 | kahului\n",
      "Processing Record 50 of Set 6 | bragadiru\n",
      "Processing Record 1 of Set 7 | thompson\n",
      "Processing Record 2 of Set 7 | alofi\n",
      "Processing Record 3 of Set 7 | guerrero negro\n",
      "Processing Record 4 of Set 7 | vao\n",
      "Processing Record 5 of Set 7 | hami\n",
      "Processing Record 6 of Set 7 | oranjemund\n",
      "Processing Record 7 of Set 7 | kongolo\n",
      "Processing Record 8 of Set 7 | port macquarie\n",
      "Processing Record 9 of Set 7 | baykit\n",
      "Processing Record 10 of Set 7 | beringovskiy\n",
      "Processing Record 11 of Set 7 | mogadishu\n",
      "Processing Record 12 of Set 7 | takoradi\n",
      "Processing Record 13 of Set 7 | nemuro\n",
      "Processing Record 14 of Set 7 | vila franca do campo\n",
      "Processing Record 15 of Set 7 | canapi\n",
      "Processing Record 16 of Set 7 | amapa\n",
      "Processing Record 17 of Set 7 | egvekinot\n",
      "Processing Record 18 of Set 7 | broken hill\n",
      "Processing Record 19 of Set 7 | tynda\n",
      "Processing Record 20 of Set 7 | vega de alatorre\n",
      "City 'karaul' not found. Skipping...\n",
      "Processing Record 21 of Set 7 | pacific grove\n",
      "Processing Record 22 of Set 7 | norman wells\n",
      "Processing Record 23 of Set 7 | saldanha\n",
      "Processing Record 24 of Set 7 | anantapur\n",
      "Processing Record 25 of Set 7 | shache\n",
      "Processing Record 26 of Set 7 | chicama\n",
      "Processing Record 27 of Set 7 | roald\n",
      "Processing Record 28 of Set 7 | lieksa\n",
      "City 'marcona' not found. Skipping...\n",
      "Processing Record 29 of Set 7 | noumea\n",
      "Processing Record 30 of Set 7 | shirokiy\n",
      "Processing Record 31 of Set 7 | tornio\n",
      "Processing Record 32 of Set 7 | wichita falls\n",
      "Processing Record 33 of Set 7 | maneadero\n",
      "City 'khonuu' not found. Skipping...\n",
      "Processing Record 34 of Set 7 | cozumel\n",
      "Processing Record 35 of Set 7 | nyurba\n",
      "Processing Record 36 of Set 7 | dunedin\n",
      "Processing Record 37 of Set 7 | wattegama\n",
      "Processing Record 38 of Set 7 | santa cruz\n",
      "Processing Record 39 of Set 7 | itarema\n",
      "Processing Record 40 of Set 7 | verkhnetulomskiy\n",
      "Processing Record 41 of Set 7 | pachino\n",
      "Processing Record 42 of Set 7 | klaksvik\n",
      "Processing Record 43 of Set 7 | tucuman\n",
      "Processing Record 44 of Set 7 | kavaratti\n",
      "Processing Record 45 of Set 7 | assiniboia\n",
      "Processing Record 46 of Set 7 | cap malheureux\n",
      "Processing Record 47 of Set 7 | angarsk\n",
      "Processing Record 48 of Set 7 | tambovka\n",
      "Processing Record 49 of Set 7 | australind\n",
      "Processing Record 50 of Set 7 | vostok\n",
      "Processing Record 1 of Set 8 | muleba\n",
      "Processing Record 2 of Set 8 | golubitskaya\n",
      "Processing Record 3 of Set 8 | mokshan\n",
      "Processing Record 4 of Set 8 | sao lourenco do sul\n",
      "Processing Record 5 of Set 8 | mayumba\n",
      "Processing Record 6 of Set 8 | tutoia\n",
      "Processing Record 7 of Set 8 | chany\n",
      "Processing Record 8 of Set 8 | shingu\n",
      "Processing Record 9 of Set 8 | ilebo\n",
      "Processing Record 10 of Set 8 | bathsheba\n",
      "Processing Record 11 of Set 8 | vryburg\n",
      "Processing Record 12 of Set 8 | salinas\n",
      "Processing Record 13 of Set 8 | inhambane\n",
      "Processing Record 14 of Set 8 | marawi\n",
      "Processing Record 15 of Set 8 | cairns\n",
      "Processing Record 16 of Set 8 | sao joao da barra\n",
      "Processing Record 17 of Set 8 | alice springs\n",
      "Processing Record 18 of Set 8 | samarai\n",
      "Processing Record 19 of Set 8 | hare bay\n",
      "Processing Record 20 of Set 8 | huicheng\n",
      "Processing Record 21 of Set 8 | batala\n",
      "Processing Record 22 of Set 8 | samana\n",
      "Processing Record 23 of Set 8 | sao filipe\n",
      "Processing Record 24 of Set 8 | kaili\n",
      "Processing Record 25 of Set 8 | axim\n",
      "Processing Record 26 of Set 8 | kruisfontein\n",
      "Processing Record 27 of Set 8 | ahipara\n",
      "Processing Record 28 of Set 8 | siuna\n",
      "Processing Record 29 of Set 8 | cabo san lucas\n",
      "City 'krasnousolskiy' not found. Skipping...\n",
      "Processing Record 30 of Set 8 | paso de los toros\n",
      "Processing Record 31 of Set 8 | pevek\n",
      "City 'abu jubayhah' not found. Skipping...\n",
      "Processing Record 32 of Set 8 | fare\n",
      "Processing Record 33 of Set 8 | eydhafushi\n",
      "City 'sentyabrskiy' not found. Skipping...\n",
      "Processing Record 34 of Set 8 | qasigiannguit\n",
      "Processing Record 35 of Set 8 | krasnokamensk\n",
      "Processing Record 36 of Set 8 | nanakuli\n",
      "Processing Record 37 of Set 8 | tupik\n",
      "Processing Record 38 of Set 8 | catalina foothills\n",
      "Processing Record 39 of Set 8 | achikulak\n",
      "Processing Record 40 of Set 8 | pauini\n",
      "Processing Record 41 of Set 8 | kaihua\n",
      "City 'felidhoo' not found. Skipping...\n",
      "Processing Record 42 of Set 8 | ginda\n",
      "Processing Record 43 of Set 8 | nyazepetrovsk\n",
      "City 'phrai bung' not found. Skipping...\n",
      "Processing Record 44 of Set 8 | talara\n",
      "Processing Record 45 of Set 8 | shakhtinsk\n",
      "City 'amderma' not found. Skipping...\n",
      "Processing Record 46 of Set 8 | faya\n",
      "Processing Record 47 of Set 8 | trincomalee\n",
      "Processing Record 48 of Set 8 | bilma\n",
      "Processing Record 49 of Set 8 | sioux lookout\n",
      "Processing Record 50 of Set 8 | tazovskiy\n",
      "Processing Record 1 of Set 9 | diffa\n",
      "Processing Record 2 of Set 9 | george town\n",
      "Processing Record 3 of Set 9 | chiang rai\n",
      "Processing Record 4 of Set 9 | hudson bay\n",
      "Processing Record 5 of Set 9 | tateyama\n",
      "Processing Record 6 of Set 9 | acapulco\n",
      "City 'tongsa' not found. Skipping...\n",
      "Processing Record 7 of Set 9 | vuktyl\n",
      "Processing Record 8 of Set 9 | seabra\n",
      "Processing Record 9 of Set 9 | yamada\n",
      "Processing Record 10 of Set 9 | monte patria\n",
      "Processing Record 11 of Set 9 | santa fe\n",
      "Processing Record 12 of Set 9 | anadyr\n",
      "Processing Record 13 of Set 9 | chaoyang\n",
      "Processing Record 14 of Set 9 | mirpur sakro\n",
      "Processing Record 15 of Set 9 | archidona\n",
      "Processing Record 16 of Set 9 | luganville\n",
      "Processing Record 17 of Set 9 | saint-augustin\n",
      "Processing Record 18 of Set 9 | san carlos de bariloche\n",
      "Processing Record 19 of Set 9 | ibra\n",
      "Processing Record 20 of Set 9 | pierre\n",
      "Processing Record 21 of Set 9 | praia da vitoria\n",
      "Processing Record 22 of Set 9 | taganak\n",
      "Processing Record 23 of Set 9 | fredericton\n",
      "Processing Record 24 of Set 9 | nirgua\n",
      "Processing Record 25 of Set 9 | atikokan\n",
      "Processing Record 26 of Set 9 | amahai\n",
      "Processing Record 27 of Set 9 | lazo\n",
      "Processing Record 28 of Set 9 | chadiza\n",
      "Processing Record 29 of Set 9 | uyovu\n",
      "Processing Record 30 of Set 9 | andros town\n",
      "Processing Record 31 of Set 9 | maniitsoq\n",
      "Processing Record 32 of Set 9 | anloga\n",
      "Processing Record 33 of Set 9 | mildura\n",
      "Processing Record 34 of Set 9 | walajapet\n",
      "Processing Record 35 of Set 9 | tanout\n",
      "Processing Record 36 of Set 9 | sabang\n",
      "Processing Record 37 of Set 9 | tukrah\n",
      "Processing Record 38 of Set 9 | rocha\n",
      "Processing Record 39 of Set 9 | natal\n",
      "City 'badaojiang' not found. Skipping...\n",
      "Processing Record 40 of Set 9 | luwuk\n",
      "Processing Record 41 of Set 9 | bac lieu\n",
      "Processing Record 42 of Set 9 | kijini\n",
      "Processing Record 43 of Set 9 | grand gaube\n",
      "Processing Record 44 of Set 9 | saint-joseph\n",
      "Processing Record 45 of Set 9 | chapais\n",
      "Processing Record 46 of Set 9 | kailua\n",
      "City 'utiroa' not found. Skipping...\n",
      "Processing Record 47 of Set 9 | barao de melgaco\n",
      "Processing Record 48 of Set 9 | san juan de los morros\n",
      "Processing Record 49 of Set 9 | kloulklubed\n",
      "Processing Record 50 of Set 9 | kanash\n",
      "Processing Record 1 of Set 10 | mayo\n",
      "Processing Record 2 of Set 10 | yar-sale\n",
      "Processing Record 3 of Set 10 | zhigansk\n",
      "City 'sinjah' not found. Skipping...\n",
      "Processing Record 4 of Set 10 | milazzo\n",
      "Processing Record 5 of Set 10 | puerto colombia\n",
      "City 'a' not found. Skipping...\n",
      "Processing Record 6 of Set 10 | kota kinabalu\n",
      "Processing Record 7 of Set 10 | atambua\n",
      "Processing Record 8 of Set 10 | birjand\n",
      "Processing Record 9 of Set 10 | burnie\n",
      "Processing Record 10 of Set 10 | stolbishche\n",
      "Processing Record 11 of Set 10 | mount isa\n",
      "Processing Record 12 of Set 10 | upington\n",
      "Processing Record 13 of Set 10 | clyde river\n",
      "Processing Record 14 of Set 10 | rudbar\n",
      "Processing Record 15 of Set 10 | male\n",
      "Processing Record 16 of Set 10 | yekaterinoslavka\n",
      "Processing Record 17 of Set 10 | ust-omchug\n",
      "Processing Record 18 of Set 10 | kuandian\n",
      "Processing Record 19 of Set 10 | bambanglipuro\n",
      "Processing Record 20 of Set 10 | kampong chhnang\n",
      "Processing Record 21 of Set 10 | los llanos de aridane\n",
      "Processing Record 22 of Set 10 | oxapampa\n",
      "Processing Record 23 of Set 10 | ukiah\n",
      "Processing Record 24 of Set 10 | port blair\n",
      "City 'meyungs' not found. Skipping...\n",
      "Processing Record 25 of Set 10 | vanimo\n",
      "Processing Record 26 of Set 10 | brae\n",
      "Processing Record 27 of Set 10 | manokwari\n",
      "Processing Record 28 of Set 10 | krasnoselkup\n",
      "Processing Record 29 of Set 10 | tomatlan\n",
      "Processing Record 30 of Set 10 | hobyo\n",
      "Processing Record 31 of Set 10 | hajiganj\n",
      "Processing Record 32 of Set 10 | college\n",
      "Processing Record 33 of Set 10 | panaba\n",
      "Processing Record 34 of Set 10 | mogapi\n",
      "Processing Record 35 of Set 10 | victoria\n",
      "Processing Record 36 of Set 10 | manicore\n",
      "Processing Record 37 of Set 10 | caucaia\n",
      "Processing Record 38 of Set 10 | kolomna\n",
      "City 'riaba' not found. Skipping...\n",
      "Processing Record 39 of Set 10 | qovlar\n",
      "Processing Record 40 of Set 10 | la palma\n",
      "Processing Record 41 of Set 10 | labuhan\n",
      "Processing Record 42 of Set 10 | maumere\n",
      "Processing Record 43 of Set 10 | richards bay\n",
      "Processing Record 44 of Set 10 | tucuma\n",
      "Processing Record 45 of Set 10 | yeniseysk\n",
      "Processing Record 46 of Set 10 | tabou\n",
      "City 'atka' not found. Skipping...\n",
      "Processing Record 47 of Set 10 | san ramon\n",
      "Processing Record 48 of Set 10 | council bluffs\n",
      "Processing Record 49 of Set 10 | slave lake\n",
      "Processing Record 50 of Set 10 | itoman\n",
      "Processing Record 1 of Set 11 | bandarbeyla\n",
      "Processing Record 2 of Set 11 | hualmay\n",
      "Processing Record 3 of Set 11 | buchanan\n",
      "Processing Record 4 of Set 11 | marsa matruh\n",
      "Processing Record 5 of Set 11 | altamont\n",
      "Processing Record 6 of Set 11 | viedma\n",
      "Processing Record 7 of Set 11 | warri\n",
      "Processing Record 8 of Set 11 | north bend\n",
      "City 'tapaua' not found. Skipping...\n",
      "City 'chaa-khol' not found. Skipping...\n",
      "Processing Record 9 of Set 11 | baker city\n",
      "Processing Record 10 of Set 11 | verkhnyaya inta\n",
      "Processing Record 11 of Set 11 | ulaangom\n",
      "Processing Record 12 of Set 11 | adrar\n",
      "Processing Record 13 of Set 11 | darhan\n",
      "Processing Record 14 of Set 11 | smithers\n",
      "Processing Record 15 of Set 11 | yatou\n",
      "City 'rungata' not found. Skipping...\n",
      "Processing Record 16 of Set 11 | darnah\n",
      "Processing Record 17 of Set 11 | batemans bay\n",
      "Processing Record 18 of Set 11 | sigiriya\n",
      "Processing Record 19 of Set 11 | taksimo\n",
      "Processing Record 20 of Set 11 | antofagasta\n",
      "Processing Record 21 of Set 11 | shwebo\n",
      "Processing Record 22 of Set 11 | kamloops\n",
      "Processing Record 23 of Set 11 | port-gentil\n",
      "Processing Record 24 of Set 11 | prince rupert\n",
      "Processing Record 25 of Set 11 | nova odesa\n",
      "City 'bolungarvik' not found. Skipping...\n",
      "Processing Record 26 of Set 11 | daru\n",
      "City 'inderborskiy' not found. Skipping...\n",
      "Processing Record 27 of Set 11 | kisangani\n",
      "Processing Record 28 of Set 11 | yashkul\n",
      "Processing Record 29 of Set 11 | tahoua\n",
      "Processing Record 30 of Set 11 | talaya\n",
      "City 'bandar-e torkaman' not found. Skipping...\n",
      "Processing Record 31 of Set 11 | corinto\n",
      "Processing Record 32 of Set 11 | road town\n",
      "Processing Record 33 of Set 11 | dire\n",
      "Processing Record 34 of Set 11 | mombasa\n",
      "Processing Record 35 of Set 11 | evensk\n",
      "Processing Record 36 of Set 11 | deputatskiy\n",
      "Processing Record 37 of Set 11 | mollendo\n",
      "Processing Record 38 of Set 11 | santa rosa\n",
      "Processing Record 39 of Set 11 | ambulu\n",
      "Processing Record 40 of Set 11 | marshall\n",
      "Processing Record 41 of Set 11 | rey bouba\n",
      "Processing Record 42 of Set 11 | esfahan\n",
      "Processing Record 43 of Set 11 | wucheng\n"
     ]
    }
   ],
   "source": [
    "from citipy import citipy\n",
    "from api_keys import weather_api_key\n",
    "import time\n",
    "\n",
    "RECORD_LIMIT = 50 # number of records\n",
    "TIME_LIMIT = 60 #in seconds\n",
    "\n",
    "# For debug limit number of cities to the first 5\n",
    "# RECORD_LIMIT = 5 # number of records\n",
    "# TIME_LIMIT = 6 #in seconds\n",
    "# cities = cities[:10]\n",
    "\n",
    "url = \"http://api.openweathermap.org/data/2.5/weather?\"\n",
    "params = {\n",
    "    'appid': weather_api_key,\n",
    "    'q': '',\n",
    "    'units': 'imperial'\n",
    "}\n",
    "city_json_data = {}\n",
    "\n",
    "\n",
    "record_count = 1\n",
    "set_count = 1\n",
    "for city in cities:\n",
    "    \n",
    "    params['q'] = city\n",
    "    response = requests.get(url, params=params)\n",
    "\n",
    "    if (response.status_code == 200):\n",
    "        print(f\"Processing Record {record_count} of Set {set_count} | {city}\")\n",
    "        \n",
    "        city_json_data[city] = response.json()\n",
    "\n",
    "        # Free API limits us to 60 calls per minute\n",
    "        # Use 50 here to avoid running into any issue\n",
    "        # More info here: \n",
    "        # https://home.openweathermap.org/subscriptions\n",
    "        if record_count == RECORD_LIMIT:\n",
    "            record_count = 0\n",
    "            set_count +=1\n",
    "            time.sleep(TIME_LIMIT)\n",
    "\n",
    "        record_count += 1\n",
    "        \n",
    "    else:\n",
    "        print(f\"City '{city}' not found. Skipping...\")\n",
    "\n",
    "# print(city_json_data) "
   ]
  },
  {
   "cell_type": "markdown",
   "metadata": {},
   "source": [
    "### Convert Raw Data to DataFrame\n",
    "* Export the city data into a .csv.\n",
    "* Display the DataFrame"
   ]
  },
  {
   "cell_type": "code",
   "execution_count": 233,
   "metadata": {},
   "outputs": [
    {
     "data": {
      "text/html": [
       "<div>\n",
       "<style scoped>\n",
       "    .dataframe tbody tr th:only-of-type {\n",
       "        vertical-align: middle;\n",
       "    }\n",
       "\n",
       "    .dataframe tbody tr th {\n",
       "        vertical-align: top;\n",
       "    }\n",
       "\n",
       "    .dataframe thead th {\n",
       "        text-align: right;\n",
       "    }\n",
       "</style>\n",
       "<table border=\"1\" class=\"dataframe\">\n",
       "  <thead>\n",
       "    <tr style=\"text-align: right;\">\n",
       "      <th></th>\n",
       "      <th>City</th>\n",
       "      <th>Lat</th>\n",
       "      <th>Lng</th>\n",
       "      <th>Max Temp</th>\n",
       "      <th>Humidity</th>\n",
       "      <th>Cloudiness</th>\n",
       "      <th>Wind Speed</th>\n",
       "      <th>Country</th>\n",
       "      <th>Date</th>\n",
       "    </tr>\n",
       "  </thead>\n",
       "  <tbody>\n",
       "    <tr>\n",
       "      <th>0</th>\n",
       "      <td>lorengau</td>\n",
       "      <td>-2.0226</td>\n",
       "      <td>147.2712</td>\n",
       "      <td>83.32</td>\n",
       "      <td>79.0</td>\n",
       "      <td>18.0</td>\n",
       "      <td>11.16</td>\n",
       "      <td>PG</td>\n",
       "      <td>1.628224e+09</td>\n",
       "    </tr>\n",
       "    <tr>\n",
       "      <th>1</th>\n",
       "      <td>rikitea</td>\n",
       "      <td>-23.1203</td>\n",
       "      <td>-134.9692</td>\n",
       "      <td>74.16</td>\n",
       "      <td>75.0</td>\n",
       "      <td>10.0</td>\n",
       "      <td>14.50</td>\n",
       "      <td>PF</td>\n",
       "      <td>1.628224e+09</td>\n",
       "    </tr>\n",
       "    <tr>\n",
       "      <th>2</th>\n",
       "      <td>nanortalik</td>\n",
       "      <td>60.1432</td>\n",
       "      <td>-45.2371</td>\n",
       "      <td>45.88</td>\n",
       "      <td>96.0</td>\n",
       "      <td>100.0</td>\n",
       "      <td>2.06</td>\n",
       "      <td>GL</td>\n",
       "      <td>1.628224e+09</td>\n",
       "    </tr>\n",
       "    <tr>\n",
       "      <th>3</th>\n",
       "      <td>hithadhoo</td>\n",
       "      <td>-0.6000</td>\n",
       "      <td>73.0833</td>\n",
       "      <td>82.87</td>\n",
       "      <td>69.0</td>\n",
       "      <td>97.0</td>\n",
       "      <td>7.58</td>\n",
       "      <td>MV</td>\n",
       "      <td>1.628223e+09</td>\n",
       "    </tr>\n",
       "    <tr>\n",
       "      <th>4</th>\n",
       "      <td>avarua</td>\n",
       "      <td>-21.2078</td>\n",
       "      <td>-159.7750</td>\n",
       "      <td>77.05</td>\n",
       "      <td>57.0</td>\n",
       "      <td>75.0</td>\n",
       "      <td>2.30</td>\n",
       "      <td>CK</td>\n",
       "      <td>1.628223e+09</td>\n",
       "    </tr>\n",
       "    <tr>\n",
       "      <th>...</th>\n",
       "      <td>...</td>\n",
       "      <td>...</td>\n",
       "      <td>...</td>\n",
       "      <td>...</td>\n",
       "      <td>...</td>\n",
       "      <td>...</td>\n",
       "      <td>...</td>\n",
       "      <td>...</td>\n",
       "      <td>...</td>\n",
       "    </tr>\n",
       "    <tr>\n",
       "      <th>538</th>\n",
       "      <td>ambulu</td>\n",
       "      <td>-8.3450</td>\n",
       "      <td>113.6058</td>\n",
       "      <td>87.33</td>\n",
       "      <td>61.0</td>\n",
       "      <td>96.0</td>\n",
       "      <td>8.52</td>\n",
       "      <td>ID</td>\n",
       "      <td>1.628225e+09</td>\n",
       "    </tr>\n",
       "    <tr>\n",
       "      <th>539</th>\n",
       "      <td>marshall</td>\n",
       "      <td>34.3834</td>\n",
       "      <td>-86.3333</td>\n",
       "      <td>76.08</td>\n",
       "      <td>79.0</td>\n",
       "      <td>1.0</td>\n",
       "      <td>0.00</td>\n",
       "      <td>US</td>\n",
       "      <td>1.628225e+09</td>\n",
       "    </tr>\n",
       "    <tr>\n",
       "      <th>540</th>\n",
       "      <td>rey bouba</td>\n",
       "      <td>8.6724</td>\n",
       "      <td>14.1786</td>\n",
       "      <td>71.58</td>\n",
       "      <td>96.0</td>\n",
       "      <td>73.0</td>\n",
       "      <td>1.63</td>\n",
       "      <td>CM</td>\n",
       "      <td>1.628225e+09</td>\n",
       "    </tr>\n",
       "    <tr>\n",
       "      <th>541</th>\n",
       "      <td>esfahan</td>\n",
       "      <td>32.6572</td>\n",
       "      <td>51.6776</td>\n",
       "      <td>80.24</td>\n",
       "      <td>21.0</td>\n",
       "      <td>97.0</td>\n",
       "      <td>3.62</td>\n",
       "      <td>IR</td>\n",
       "      <td>1.628225e+09</td>\n",
       "    </tr>\n",
       "    <tr>\n",
       "      <th>542</th>\n",
       "      <td>wucheng</td>\n",
       "      <td>29.6008</td>\n",
       "      <td>118.1750</td>\n",
       "      <td>93.04</td>\n",
       "      <td>53.0</td>\n",
       "      <td>49.0</td>\n",
       "      <td>7.40</td>\n",
       "      <td>CN</td>\n",
       "      <td>1.628225e+09</td>\n",
       "    </tr>\n",
       "  </tbody>\n",
       "</table>\n",
       "<p>543 rows × 9 columns</p>\n",
       "</div>"
      ],
      "text/plain": [
       "           City      Lat       Lng  Max Temp  Humidity  Cloudiness  \\\n",
       "0      lorengau  -2.0226  147.2712     83.32      79.0        18.0   \n",
       "1       rikitea -23.1203 -134.9692     74.16      75.0        10.0   \n",
       "2    nanortalik  60.1432  -45.2371     45.88      96.0       100.0   \n",
       "3     hithadhoo  -0.6000   73.0833     82.87      69.0        97.0   \n",
       "4        avarua -21.2078 -159.7750     77.05      57.0        75.0   \n",
       "..          ...      ...       ...       ...       ...         ...   \n",
       "538      ambulu  -8.3450  113.6058     87.33      61.0        96.0   \n",
       "539    marshall  34.3834  -86.3333     76.08      79.0         1.0   \n",
       "540   rey bouba   8.6724   14.1786     71.58      96.0        73.0   \n",
       "541     esfahan  32.6572   51.6776     80.24      21.0        97.0   \n",
       "542     wucheng  29.6008  118.1750     93.04      53.0        49.0   \n",
       "\n",
       "     Wind Speed Country          Date  \n",
       "0         11.16      PG  1.628224e+09  \n",
       "1         14.50      PF  1.628224e+09  \n",
       "2          2.06      GL  1.628224e+09  \n",
       "3          7.58      MV  1.628223e+09  \n",
       "4          2.30      CK  1.628223e+09  \n",
       "..          ...     ...           ...  \n",
       "538        8.52      ID  1.628225e+09  \n",
       "539        0.00      US  1.628225e+09  \n",
       "540        1.63      CM  1.628225e+09  \n",
       "541        3.62      IR  1.628225e+09  \n",
       "542        7.40      CN  1.628225e+09  \n",
       "\n",
       "[543 rows x 9 columns]"
      ]
     },
     "execution_count": 233,
     "metadata": {},
     "output_type": "execute_result"
    }
   ],
   "source": [
    "import json\n",
    "\n",
    "# Specify empty column types \n",
    "# https://stackoverflow.com/questions/36462257/create-empty-dataframe-in-pandas-specifying-column-types\n",
    "schema = { \n",
    "    'City': str,\n",
    "    'Lat': float,\n",
    "    'Lng': float,\n",
    "    'Max Temp': float,\n",
    "    'Humidity': int,\n",
    "    'Cloudiness': int,\n",
    "    'Wind Speed': float,\n",
    "    'Country': str,\n",
    "    'Date': int}\n",
    "df = pd.DataFrame(columns=schema.keys()).astype(schema)\n",
    "df['City'] = city_json_data.keys()\n",
    "\n",
    "for index, row in df.iterrows():\n",
    "    city = df.loc[index, 'City']\n",
    "#     print(json.dumps(city_json_data[city], indent=4, sort_keys=True))\n",
    "\n",
    "    df.loc[index, \"Lat\"] = city_json_data[city]['coord']['lat']\n",
    "    df.loc[index, \"Lng\"] = city_json_data[city]['coord']['lon']\n",
    "    df.loc[index, \"Max Temp\"] = city_json_data[city]['main']['temp_max']\n",
    "    df.loc[index, \"Humidity\"] = city_json_data[city]['main']['humidity']\n",
    "    df.loc[index, \"Cloudiness\"] = city_json_data[city]['clouds']['all']\n",
    "    df.loc[index, \"Wind Speed\"] = city_json_data[city]['wind']['speed']\n",
    "    df.loc[index, \"Country\"] = city_json_data[city]['sys']['country']\n",
    "    df.loc[index, \"Date\"] = city_json_data[city]['dt']\n",
    "        \n",
    "df.to_csv(output_data_file, encoding=\"utf-8\", index=False)\n",
    "df\n"
   ]
  },
  {
   "cell_type": "code",
   "execution_count": null,
   "metadata": {},
   "outputs": [],
   "source": []
  },
  {
   "cell_type": "markdown",
   "metadata": {},
   "source": [
    "## Inspect the data and remove the cities where the humidity > 100%.\n",
    "----\n",
    "Skip this step if there are no cities that have humidity > 100%. "
   ]
  },
  {
   "cell_type": "code",
   "execution_count": null,
   "metadata": {},
   "outputs": [],
   "source": []
  },
  {
   "cell_type": "code",
   "execution_count": 234,
   "metadata": {},
   "outputs": [
    {
     "data": {
      "text/plain": [
       "Int64Index([], dtype='int64')"
      ]
     },
     "execution_count": 234,
     "metadata": {},
     "output_type": "execute_result"
    }
   ],
   "source": [
    "#  Get the indices of cities that have humidity over 100%.\n",
    "# df.loc[df['Humidity'] > 100]\n",
    "humid_city_indeces = df.index[df['Humidity'] >100]\n",
    "humid_city_indeces"
   ]
  },
  {
   "cell_type": "code",
   "execution_count": 235,
   "metadata": {},
   "outputs": [
    {
     "data": {
      "text/html": [
       "<div>\n",
       "<style scoped>\n",
       "    .dataframe tbody tr th:only-of-type {\n",
       "        vertical-align: middle;\n",
       "    }\n",
       "\n",
       "    .dataframe tbody tr th {\n",
       "        vertical-align: top;\n",
       "    }\n",
       "\n",
       "    .dataframe thead th {\n",
       "        text-align: right;\n",
       "    }\n",
       "</style>\n",
       "<table border=\"1\" class=\"dataframe\">\n",
       "  <thead>\n",
       "    <tr style=\"text-align: right;\">\n",
       "      <th></th>\n",
       "      <th>City</th>\n",
       "      <th>Lat</th>\n",
       "      <th>Lng</th>\n",
       "      <th>Max Temp</th>\n",
       "      <th>Humidity</th>\n",
       "      <th>Cloudiness</th>\n",
       "      <th>Wind Speed</th>\n",
       "      <th>Country</th>\n",
       "      <th>Date</th>\n",
       "    </tr>\n",
       "  </thead>\n",
       "  <tbody>\n",
       "    <tr>\n",
       "      <th>0</th>\n",
       "      <td>lorengau</td>\n",
       "      <td>-2.0226</td>\n",
       "      <td>147.2712</td>\n",
       "      <td>83.32</td>\n",
       "      <td>79.0</td>\n",
       "      <td>18.0</td>\n",
       "      <td>11.16</td>\n",
       "      <td>PG</td>\n",
       "      <td>1.628224e+09</td>\n",
       "    </tr>\n",
       "    <tr>\n",
       "      <th>1</th>\n",
       "      <td>rikitea</td>\n",
       "      <td>-23.1203</td>\n",
       "      <td>-134.9692</td>\n",
       "      <td>74.16</td>\n",
       "      <td>75.0</td>\n",
       "      <td>10.0</td>\n",
       "      <td>14.50</td>\n",
       "      <td>PF</td>\n",
       "      <td>1.628224e+09</td>\n",
       "    </tr>\n",
       "    <tr>\n",
       "      <th>2</th>\n",
       "      <td>nanortalik</td>\n",
       "      <td>60.1432</td>\n",
       "      <td>-45.2371</td>\n",
       "      <td>45.88</td>\n",
       "      <td>96.0</td>\n",
       "      <td>100.0</td>\n",
       "      <td>2.06</td>\n",
       "      <td>GL</td>\n",
       "      <td>1.628224e+09</td>\n",
       "    </tr>\n",
       "    <tr>\n",
       "      <th>3</th>\n",
       "      <td>hithadhoo</td>\n",
       "      <td>-0.6000</td>\n",
       "      <td>73.0833</td>\n",
       "      <td>82.87</td>\n",
       "      <td>69.0</td>\n",
       "      <td>97.0</td>\n",
       "      <td>7.58</td>\n",
       "      <td>MV</td>\n",
       "      <td>1.628223e+09</td>\n",
       "    </tr>\n",
       "    <tr>\n",
       "      <th>4</th>\n",
       "      <td>avarua</td>\n",
       "      <td>-21.2078</td>\n",
       "      <td>-159.7750</td>\n",
       "      <td>77.05</td>\n",
       "      <td>57.0</td>\n",
       "      <td>75.0</td>\n",
       "      <td>2.30</td>\n",
       "      <td>CK</td>\n",
       "      <td>1.628223e+09</td>\n",
       "    </tr>\n",
       "  </tbody>\n",
       "</table>\n",
       "</div>"
      ],
      "text/plain": [
       "         City      Lat       Lng  Max Temp  Humidity  Cloudiness  Wind Speed  \\\n",
       "0    lorengau  -2.0226  147.2712     83.32      79.0        18.0       11.16   \n",
       "1     rikitea -23.1203 -134.9692     74.16      75.0        10.0       14.50   \n",
       "2  nanortalik  60.1432  -45.2371     45.88      96.0       100.0        2.06   \n",
       "3   hithadhoo  -0.6000   73.0833     82.87      69.0        97.0        7.58   \n",
       "4      avarua -21.2078 -159.7750     77.05      57.0        75.0        2.30   \n",
       "\n",
       "  Country          Date  \n",
       "0      PG  1.628224e+09  \n",
       "1      PF  1.628224e+09  \n",
       "2      GL  1.628224e+09  \n",
       "3      MV  1.628223e+09  \n",
       "4      CK  1.628223e+09  "
      ]
     },
     "execution_count": 235,
     "metadata": {},
     "output_type": "execute_result"
    }
   ],
   "source": [
    "# Make a new DataFrame equal to the city data to drop all humidity outliers by index.\n",
    "# Passing \"inplace=False\" will make a copy of the city_data DataFrame, which we call \"clean_city_data\".\n",
    "clean_city_data = df.drop(index=humid_city_indeces, inplace=False)\n",
    "clean_city_data.head()\n",
    "\n"
   ]
  },
  {
   "cell_type": "code",
   "execution_count": null,
   "metadata": {},
   "outputs": [],
   "source": [
    "\n"
   ]
  },
  {
   "cell_type": "markdown",
   "metadata": {},
   "source": [
    "## Plotting the Data\n",
    "* Use proper labeling of the plots using plot titles (including date of analysis) and axes labels.\n",
    "* Save the plotted figures as .pngs."
   ]
  },
  {
   "cell_type": "markdown",
   "metadata": {},
   "source": [
    "## Latitude vs. Temperature Plot"
   ]
  },
  {
   "cell_type": "code",
   "execution_count": 238,
   "metadata": {
    "tags": []
   },
   "outputs": [
    {
     "data": {
      "image/png": "[encoded data removed]",
      "text/plain": [
       "<Figure size 432x288 with 1 Axes>"
      ]
     },
     "metadata": {
      "needs_background": "light"
     },
     "output_type": "display_data"
    }
   ],
   "source": [
    "import matplotlib.pyplot as plt\n",
    "\n",
    "#Data should all be from the same day so use first index for title\n",
    "city_data_date = pd.to_datetime(df['Date'], unit='s')[0].strftime(\"%m/%d/%y\")\n",
    "clean_city_data.plot('Lat',\n",
    "                     'Max Temp',\n",
    "                     kind=\"scatter\",\n",
    "                     legend= False,\n",
    "                     xlabel =\"Latitude\",\n",
    "                     ylabel =\"Max Temperature (F)\",\n",
    "                     title = f'City Latitude vs. Max Temperature ({city_data_date})',\n",
    "                     grid=True,\n",
    "                    color='steelblue',\n",
    "                    marker='o')\n",
    "\n",
    "plt.savefig('images/CityLatitudeVsMaxTemperature.png')"
   ]
  },
  {
   "cell_type": "markdown",
   "metadata": {},
   "source": [
    "## Latitude vs. Humidity Plot"
   ]
  },
  {
   "cell_type": "code",
   "execution_count": 239,
   "metadata": {},
   "outputs": [
    {
     "data": {
      "image/png": "[encoded data removed]",
      "text/plain": [
       "<Figure size 432x288 with 1 Axes>"
      ]
     },
     "metadata": {
      "needs_background": "light"
     },
     "output_type": "display_data"
    }
   ],
   "source": [
    "clean_city_data.plot('Lat',\n",
    "                     'Humidity',\n",
    "                     kind=\"scatter\",\n",
    "                     legend= False,\n",
    "                     xlabel =\"Latitude\",\n",
    "                     ylabel =\"Humidity\",\n",
    "                     title = f'City Latitude vs. Humidity ({city_data_date})',\n",
    "                     color='steelblue',\n",
    "                     grid=True)\n",
    "plt.savefig('images/CityLatitudeVsHumidity.png')"
   ]
  },
  {
   "cell_type": "markdown",
   "metadata": {},
   "source": [
    "## Latitude vs. Cloudiness Plot"
   ]
  },
  {
   "cell_type": "code",
   "execution_count": 240,
   "metadata": {},
   "outputs": [
    {
     "data": {
      "image/png": "[encoded data removed]",
      "text/plain": [
       "<Figure size 432x288 with 1 Axes>"
      ]
     },
     "metadata": {
      "needs_background": "light"
     },
     "output_type": "display_data"
    }
   ],
   "source": [
    "clean_city_data.plot('Lat',\n",
    "                     'Cloudiness',\n",
    "                     kind=\"scatter\",\n",
    "                     legend= False,\n",
    "                     xlabel =\"Latitude\",\n",
    "                     ylabel =\"Cloudiness\",\n",
    "                     title = f'City Latitude vs. Cloudiness ({city_data_date})',\n",
    "                     color='steelblue',\n",
    "                     grid=True)\n",
    "plt.savefig('images/CityLatitudeVsCloudiness.png')"
   ]
  },
  {
   "cell_type": "markdown",
   "metadata": {},
   "source": [
    "## Latitude vs. Wind Speed Plot"
   ]
  },
  {
   "cell_type": "code",
   "execution_count": 241,
   "metadata": {},
   "outputs": [
    {
     "data": {
      "image/png": "[encoded data removed]",
      "text/plain": [
       "<Figure size 432x288 with 1 Axes>"
      ]
     },
     "metadata": {
      "needs_background": "light"
     },
     "output_type": "display_data"
    }
   ],
   "source": [
    "clean_city_data.plot('Lat',\n",
    "                     'Wind Speed',\n",
    "                     kind=\"scatter\",\n",
    "                     legend= False,\n",
    "                     xlabel =\"Latitude\",\n",
    "                     ylabel =\"Wind Speed\",\n",
    "                     title = f'City Latitude vs. Wind Speed ({city_data_date})',\n",
    "                     color='steelblue',\n",
    "                     grid=True)\n",
    "plt.savefig('images/CityLatitudeVsWindSpeed.png')"
   ]
  },
  {
   "cell_type": "markdown",
   "metadata": {},
   "source": [
    "## Linear Regression"
   ]
  },
  {
   "cell_type": "code",
   "execution_count": null,
   "metadata": {},
   "outputs": [],
   "source": []
  },
  {
   "cell_type": "markdown",
   "metadata": {},
   "source": [
    "####  Northern Hemisphere - Max Temp vs. Latitude Linear Regression"
   ]
  },
  {
   "cell_type": "code",
   "execution_count": 253,
   "metadata": {},
   "outputs": [
    {
     "name": "stdout",
     "output_type": "stream",
     "text": [
      "The r-value is: -0.6976063388389336\n"
     ]
    },
    {
     "data": {
      "image/png": "[encoded data removed]",
      "text/plain": [
       "<Figure size 432x288 with 1 Axes>"
      ]
     },
     "metadata": {
      "needs_background": "light"
     },
     "output_type": "display_data"
    }
   ],
   "source": [
    "import matplotlib.pyplot as plt\n",
    "from scipy.stats import linregress\n",
    "\n",
    "northern_lat_df = clean_city_data.loc[clean_city_data['Lat'] > 0]\n",
    "x_values = northern_lat_df['Lat']\n",
    "y_values = northern_lat_df['Max Temp']\n",
    "# print(x_values)\n",
    "# print(y_values)\n",
    "\n",
    "# Calculate line equation\n",
    "(slope, intercept, rvalue, pvalue, stderr) = linregress(x_values, y_values)\n",
    "regress_values = x_values * slope + intercept\n",
    "line_eq = \"y = \" + str(round(slope,2)) + \"x + \" + str(round(intercept,2))\n",
    "# print(line_eq)\n",
    "print(f\"The r-value is: {rvalue}\")\n",
    "\n",
    "# Plot\n",
    "plt.scatter(x_values,y_values)\n",
    "plt.plot(x_values,regress_values,\"r-\")\n",
    "plt.annotate(line_eq,(6, 35),fontsize=16,color=\"red\")\n",
    "plt.xlabel('Latitude')\n",
    "plt.ylabel('Max Temp')\n",
    "plt.savefig('images/MaxTempVsLatitude-NorthernHemisphereLinearRegression.png')\n",
    "plt.show()\n"
   ]
  },
  {
   "cell_type": "markdown",
   "metadata": {},
   "source": [
    "##### Max Temp Vs Latitude Northern Hemisphere Regression Analysis\n",
    "In general, the maximum temperature drops the higher the lattitude in the northern hemisphere."
   ]
  },
  {
   "cell_type": "markdown",
   "metadata": {},
   "source": [
    "####  Southern Hemisphere - Max Temp vs. Latitude Linear Regression"
   ]
  },
  {
   "cell_type": "code",
   "execution_count": 254,
   "metadata": {},
   "outputs": [
    {
     "name": "stdout",
     "output_type": "stream",
     "text": [
      "The r-value is: 0.7590467685068935\n"
     ]
    },
    {
     "data": {
      "image/png": "[encoded data removed]",
      "text/plain": [
       "<Figure size 432x288 with 1 Axes>"
      ]
     },
     "metadata": {
      "needs_background": "light"
     },
     "output_type": "display_data"
    }
   ],
   "source": [
    "from scipy.stats import linregress\n",
    "\n",
    "southern_lat_df = clean_city_data.loc[clean_city_data['Lat'] < 0]\n",
    "x_values = southern_lat_df['Lat']\n",
    "y_values = southern_lat_df['Max Temp']\n",
    "# print(x_values)\n",
    "# print(y_values)\n",
    "\n",
    "# Calculate line equation\n",
    "(slope, intercept, rvalue, pvalue, stderr) = linregress(x_values, y_values)\n",
    "regress_values = x_values * slope + intercept\n",
    "line_eq = \"y = \" + str(round(slope,2)) + \"x + \" + str(round(intercept,2))\n",
    "# print(line_eq)\n",
    "print(f\"The r-value is: {rvalue}\")\n",
    "\n",
    "# Plot\n",
    "plt.scatter(x_values,y_values)\n",
    "plt.plot(x_values,regress_values,\"r-\")\n",
    "plt.annotate(line_eq,(-55, 85),fontsize=16,color=\"red\")\n",
    "plt.xlabel('Latitude')\n",
    "plt.ylabel('Max Temp')\n",
    "plt.savefig('images/MaxTempVsLatitude-SouthernHemisphereLinearRegression.png')\n",
    "plt.show()\n"
   ]
  },
  {
   "cell_type": "markdown",
   "metadata": {},
   "source": [
    "##### Max Temp Vs Latitude Southern Hemisphere Regression Analysis\n",
    "In general, the maximum temperature drops the lower the lattitude in the southern hemisphere."
   ]
  },
  {
   "cell_type": "markdown",
   "metadata": {},
   "source": [
    "####  Northern Hemisphere - Humidity (%) vs. Latitude Linear Regression"
   ]
  },
  {
   "cell_type": "code",
   "execution_count": 255,
   "metadata": {},
   "outputs": [
    {
     "name": "stdout",
     "output_type": "stream",
     "text": [
      "The r-value is: 0.02612688255168509\n"
     ]
    },
    {
     "data": {
      "image/png": "[encoded data removed]",
      "text/plain": [
       "<Figure size 432x288 with 1 Axes>"
      ]
     },
     "metadata": {
      "needs_background": "light"
     },
     "output_type": "display_data"
    }
   ],
   "source": [
    "from scipy.stats import linregress\n",
    "\n",
    "southern_lat_df = clean_city_data.loc[clean_city_data['Lat'] > 0]\n",
    "x_values = northern_lat_df['Lat']\n",
    "y_values = northern_lat_df['Humidity']\n",
    "# print(x_values)\n",
    "# print(y_values)\n",
    "\n",
    "# Calculate line equation\n",
    "(slope, intercept, rvalue, pvalue, stderr) = linregress(x_values, y_values)\n",
    "regress_values = x_values * slope + intercept\n",
    "line_eq = \"y = \" + str(round(slope,2)) + \"x + \" + str(round(intercept,2))\n",
    "# print(line_eq)\n",
    "print(f\"The r-value is: {rvalue}\")\n",
    "\n",
    "# Plot\n",
    "plt.scatter(x_values,y_values)\n",
    "plt.plot(x_values,regress_values,\"r-\")\n",
    "plt.annotate(line_eq,(40, 12),fontsize=16,color=\"red\")\n",
    "plt.xlabel('Latitude')\n",
    "plt.ylabel('Humidity')\n",
    "plt.savefig('images/HumidityVsLatitude-NorthernHemisphereLinearRegression.png')\n",
    "plt.show()\n"
   ]
  },
  {
   "cell_type": "markdown",
   "metadata": {},
   "source": [
    "##### Humidity Vs Latitude Northern Hemisphere Regression Analysis\n",
    "The humidity does not seem correlated with the latitude in the northern hemisphere."
   ]
  },
  {
   "cell_type": "markdown",
   "metadata": {},
   "source": [
    "####  Southern Hemisphere - Humidity (%) vs. Latitude Linear Regression"
   ]
  },
  {
   "cell_type": "code",
   "execution_count": 256,
   "metadata": {},
   "outputs": [
    {
     "name": "stdout",
     "output_type": "stream",
     "text": [
      "The r-value is: -0.01785421912197786\n"
     ]
    },
    {
     "data": {
      "image/png": "[encoded data removed]",
      "text/plain": [
       "<Figure size 432x288 with 1 Axes>"
      ]
     },
     "metadata": {
      "needs_background": "light"
     },
     "output_type": "display_data"
    }
   ],
   "source": [
    "from scipy.stats import linregress\n",
    "\n",
    "southern_lat_df = clean_city_data.loc[clean_city_data['Lat'] < 0]\n",
    "x_values = southern_lat_df['Lat']\n",
    "y_values = southern_lat_df['Humidity']\n",
    "# print(x_values)\n",
    "# print(y_values)\n",
    "\n",
    "# Calculate line equation\n",
    "(slope, intercept, rvalue, pvalue, stderr) = linregress(x_values, y_values)\n",
    "regress_values = x_values * slope + intercept\n",
    "line_eq = \"y = \" + str(round(slope,2)) + \"x + \" + str(round(intercept,2))\n",
    "# print(line_eq)\n",
    "print(f\"The r-value is: {rvalue}\")\n",
    "\n",
    "# Plot\n",
    "plt.scatter(x_values,y_values)\n",
    "plt.plot(x_values,regress_values,\"r-\")\n",
    "plt.annotate(line_eq,(-55, 40),fontsize=16,color=\"red\")\n",
    "plt.xlabel('Latitude')\n",
    "plt.ylabel('Humidity')\n",
    "plt.savefig('images/HumidityVsLatitude-SouthernHemisphereLinearRegression.png')\n",
    "plt.show()\n"
   ]
  },
  {
   "cell_type": "markdown",
   "metadata": {},
   "source": [
    "##### Humidity Vs Latitude Southern Hemisphere Regression Analysis\n",
    "The humidity does not seem correlated with the latitude in the southern hemisphere."
   ]
  },
  {
   "cell_type": "markdown",
   "metadata": {},
   "source": [
    "####  Northern Hemisphere - Cloudiness (%) vs. Latitude Linear Regression"
   ]
  },
  {
   "cell_type": "code",
   "execution_count": 257,
   "metadata": {},
   "outputs": [
    {
     "name": "stdout",
     "output_type": "stream",
     "text": [
      "The r-value is: -0.0411940566392487\n"
     ]
    },
    {
     "data": {
      "image/png": "[encoded data removed]",
      "text/plain": [
       "<Figure size 432x288 with 1 Axes>"
      ]
     },
     "metadata": {
      "needs_background": "light"
     },
     "output_type": "display_data"
    }
   ],
   "source": [
    "from scipy.stats import linregress\n",
    "\n",
    "southern_lat_df = clean_city_data.loc[clean_city_data['Lat'] > 0]\n",
    "x_values = northern_lat_df['Lat']\n",
    "y_values = northern_lat_df['Cloudiness']\n",
    "# print(x_values)\n",
    "# print(y_values)\n",
    "\n",
    "# Calculate line equation\n",
    "(slope, intercept, rvalue, pvalue, stderr) = linregress(x_values, y_values)\n",
    "regress_values = x_values * slope + intercept\n",
    "line_eq = \"y = \" + str(round(slope,2)) + \"x + \" + str(round(intercept,2))\n",
    "# print(line_eq)\n",
    "print(f\"The r-value is: {rvalue}\")\n",
    "\n",
    "# Plot\n",
    "plt.scatter(x_values,y_values)\n",
    "plt.plot(x_values,regress_values,\"r-\")\n",
    "plt.annotate(line_eq,(5, 46),fontsize=16,color=\"red\")\n",
    "plt.xlabel('Latitude')\n",
    "plt.ylabel('Cloudiness')\n",
    "plt.savefig('images/CloudinessVsLatitude-NorthernHemisphereLinearRegression.png')\n",
    "plt.show()\n"
   ]
  },
  {
   "cell_type": "markdown",
   "metadata": {},
   "source": [
    "##### Cloudiness Vs Latitude Northern Hemisphere Regression Analysis\n",
    "Cloudiness does not seem correlated with the latitude in the northern hemisphere."
   ]
  },
  {
   "cell_type": "markdown",
   "metadata": {},
   "source": [
    "####  Southern Hemisphere - Cloudiness (%) vs. Latitude Linear Regression"
   ]
  },
  {
   "cell_type": "code",
   "execution_count": 258,
   "metadata": {},
   "outputs": [
    {
     "name": "stdout",
     "output_type": "stream",
     "text": [
      "The r-value is: 0.0364189211854312\n"
     ]
    },
    {
     "data": {
      "image/png": "[encoded data removed]",
      "text/plain": [
       "<Figure size 432x288 with 1 Axes>"
      ]
     },
     "metadata": {
      "needs_background": "light"
     },
     "output_type": "display_data"
    }
   ],
   "source": [
    "from scipy.stats import linregress\n",
    "\n",
    "southern_lat_df = clean_city_data.loc[clean_city_data['Lat'] < 0]\n",
    "x_values = southern_lat_df['Lat']\n",
    "y_values = southern_lat_df['Cloudiness']\n",
    "# print(x_values)\n",
    "# print(y_values)\n",
    "\n",
    "# Calculate line equation\n",
    "(slope, intercept, rvalue, pvalue, stderr) = linregress(x_values, y_values)\n",
    "regress_values = x_values * slope + intercept\n",
    "line_eq = \"y = \" + str(round(slope,2)) + \"x + \" + str(round(intercept,2))\n",
    "# print(line_eq)\n",
    "print(f\"The r-value is: {rvalue}\")\n",
    "\n",
    "# Plot\n",
    "plt.scatter(x_values,y_values)\n",
    "plt.plot(x_values,regress_values,\"r-\")\n",
    "plt.annotate(line_eq,(-55, 50),fontsize=16,color=\"red\")\n",
    "plt.xlabel('Latitude')\n",
    "plt.ylabel('Cloudiness')\n",
    "plt.savefig('images/CloudinessVsLatitude-SouthernHemisphereLinearRegression.png')\n",
    "plt.show()\n"
   ]
  },
  {
   "cell_type": "markdown",
   "metadata": {},
   "source": [
    "##### Cloudiness Vs Latitude Southern Hemisphere Regression Analysis\n",
    "Cloudiness does not seem correlated with the latitude in the southern hemisphere."
   ]
  },
  {
   "cell_type": "markdown",
   "metadata": {},
   "source": [
    "####  Northern Hemisphere - Wind Speed (mph) vs. Latitude Linear Regression"
   ]
  },
  {
   "cell_type": "code",
   "execution_count": 259,
   "metadata": {},
   "outputs": [
    {
     "name": "stdout",
     "output_type": "stream",
     "text": [
      "The r-value is: -0.10747976208096979\n"
     ]
    },
    {
     "data": {
      "image/png": "[encoded data removed]",
      "text/plain": [
       "<Figure size 432x288 with 1 Axes>"
      ]
     },
     "metadata": {
      "needs_background": "light"
     },
     "output_type": "display_data"
    }
   ],
   "source": [
    "from scipy.stats import linregress\n",
    "\n",
    "southern_lat_df = clean_city_data.loc[clean_city_data['Lat'] > 0]\n",
    "x_values = northern_lat_df['Lat']\n",
    "y_values = northern_lat_df['Wind Speed']\n",
    "# print(x_values)\n",
    "# print(y_values)\n",
    "\n",
    "# Calculate line equation\n",
    "(slope, intercept, rvalue, pvalue, stderr) = linregress(x_values, y_values)\n",
    "regress_values = x_values * slope + intercept\n",
    "line_eq = \"y = \" + str(round(slope,2)) + \"x + \" + str(round(intercept,2))\n",
    "# print(line_eq)\n",
    "print(f\"The r-value is: {rvalue}\")\n",
    "\n",
    "# Plot\n",
    "plt.scatter(x_values,y_values)\n",
    "plt.plot(x_values,regress_values,\"r-\")\n",
    "plt.annotate(line_eq,(40, 26),fontsize=16,color=\"red\")\n",
    "plt.xlabel('Latitude')\n",
    "plt.ylabel('Wind Speed')\n",
    "plt.savefig('images/WindSpeedVsLatitude-NorthernHemisphereLinearRegression.png')\n",
    "plt.show()\n"
   ]
  },
  {
   "cell_type": "markdown",
   "metadata": {},
   "source": [
    "##### Wind Speed Vs Latitude Northern Hemisphere Regression Analysis\n",
    "Wind speed does not seem correlated with the latitude in the northern hemisphere."
   ]
  },
  {
   "cell_type": "markdown",
   "metadata": {},
   "source": [
    "####  Southern Hemisphere - Wind Speed (mph) vs. Latitude Linear Regression"
   ]
  },
  {
   "cell_type": "code",
   "execution_count": 261,
   "metadata": {},
   "outputs": [
    {
     "name": "stdout",
     "output_type": "stream",
     "text": [
      "The r-value is: -0.19768877778258248\n"
     ]
    },
    {
     "data": {
      "image/png": "[encoded data removed]",
      "text/plain": [
       "<Figure size 432x288 with 1 Axes>"
      ]
     },
     "metadata": {
      "needs_background": "light"
     },
     "output_type": "display_data"
    }
   ],
   "source": [
    "from scipy.stats import linregress\n",
    "\n",
    "southern_lat_df = clean_city_data.loc[clean_city_data['Lat'] < 0]\n",
    "x_values = southern_lat_df['Lat']\n",
    "y_values = southern_lat_df['Wind Speed']\n",
    "# print(x_values)\n",
    "# print(y_values)\n",
    "\n",
    "# Calculate line equation\n",
    "(slope, intercept, rvalue, pvalue, stderr) = linregress(x_values, y_values)\n",
    "regress_values = x_values * slope + intercept\n",
    "line_eq = \"y = \" + str(round(slope,2)) + \"x + \" + str(round(intercept,2))\n",
    "# print(line_eq)\n",
    "print(f\"The r-value is: {rvalue}\")\n",
    "\n",
    "# Plot\n",
    "plt.scatter(x_values,y_values)\n",
    "plt.plot(x_values,regress_values,\"r-\")\n",
    "plt.annotate(line_eq,(-55, 24),fontsize=16,color=\"red\")\n",
    "plt.xlabel('Latitude')\n",
    "plt.ylabel('Wind Speed')\n",
    "plt.savefig('images/WindSpeedVsLatitude-SouthernHemisphereLinearRegression.png')\n",
    "plt.show()\n"
   ]
  },
  {
   "cell_type": "markdown",
   "metadata": {},
   "source": [
    "##### Wind Speed Vs Latitude Southern Hemisphere Regression Analysis\n",
    "Wind speed does seem a bit more correlated with the lattude here. Given the northern hemisphere data, it would be worth looking into whether this was related to the day the data was gathered or if there truly is a relation. Also, the southern hemisphere is currently experiencing winter so perhaps there are other factors that contribue to the wind speeds."
   ]
  },
  {
   "cell_type": "markdown",
   "metadata": {},
   "source": [
    "## Trends\n",
    "\n",
    "* The max temperature overall seems to drop the further you are from the equator. This is as expected.\n",
    "* Humidity does not seem to obey any rules with regard to lattitude.  \n",
    "* Cloudiness does not seem to obey any rules with regard to lattitude.  \n",
    "* Wind speed does not seem to obey any rules with regard to lattitude in the northern hemisphere. Wind speeds increase the lower the latitude in the southern hemisphere. More data would be useful for further analyzing the southern hemisphere.  \n"
   ]
  },
  {
   "cell_type": "code",
   "execution_count": null,
   "metadata": {},
   "outputs": [],
   "source": []
  }
 ],
 "metadata": {
  "anaconda-cloud": {},
  "kernel_info": {
   "name": "python3"
  },
  "kernelspec": {
   "display_name": "Python 3",
   "language": "python",
   "name": "python3"
  },
  "language_info": {
   "codemirror_mode": {
    "name": "ipython",
    "version": 3
   },
   "file_extension": ".py",
   "mimetype": "text/x-python",
   "name": "python",
   "nbconvert_exporter": "python",
   "pygments_lexer": "ipython3",
   "version": "3.8.8"
  },
  "latex_envs": {
   "LaTeX_envs_menu_present": true,
   "autoclose": false,
   "autocomplete": true,
   "bibliofile": "biblio.bib",
   "cite_by": "apalike",
   "current_citInitial": 1,
   "eqLabelWithNumbers": true,
   "eqNumInitial": 1,
   "hotkeys": {
    "equation": "Ctrl-E",
    "itemize": "Ctrl-I"
   },
   "labels_anchors": false,
   "latex_user_defs": false,
   "report_style_numbering": false,
   "user_envs_cfg": false
  },
  "nteract": {
   "version": "0.12.3"
  }
 },
 "nbformat": 4,
 "nbformat_minor": 4
}
