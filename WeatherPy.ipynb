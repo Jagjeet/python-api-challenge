{
 "cells": [
  {
   "cell_type": "markdown",
   "metadata": {},
   "source": [
    "# WeatherPy\n",
    "----\n",
    "\n",
    "#### Note\n",
    "* Instructions have been included for each segment. You do not have to follow them exactly, but they are included to help you think through the steps."
   ]
  },
  {
   "cell_type": "code",
   "execution_count": 104,
   "metadata": {
    "scrolled": true
   },
   "outputs": [],
   "source": [
    "# Dependencies and Setup\n",
    "import matplotlib.pyplot as plt\n",
    "import pandas as pd\n",
    "import numpy as np\n",
    "import requests\n",
    "import time\n",
    "from scipy.stats import linregress\n",
    "\n",
    "# Import API key\n",
    "from api_keys import weather_api_key\n",
    "\n",
    "# Incorporated citipy to determine city based on latitude and longitude\n",
    "from citipy import citipy\n",
    "\n",
    "# Output File (CSV)\n",
    "output_data_file = \"output_data/cities.csv\"\n",
    "\n",
    "# Range of latitudes and longitudes\n",
    "lat_range = (-90, 90)\n",
    "lng_range = (-180, 180)"
   ]
  },
  {
   "cell_type": "markdown",
   "metadata": {},
   "source": [
    "## Generate Cities List"
   ]
  },
  {
   "cell_type": "code",
   "execution_count": 105,
   "metadata": {},
   "outputs": [
    {
     "data": {
      "text/plain": [
       "621"
      ]
     },
     "execution_count": 105,
     "metadata": {},
     "output_type": "execute_result"
    }
   ],
   "source": [
    "# List for holding lat_lngs and cities\n",
    "lat_lngs = []\n",
    "cities = []\n",
    "\n",
    "# Create a set of random lat and lng combinations\n",
    "lats = np.random.uniform(lat_range[0], lat_range[1], size=1500)\n",
    "lngs = np.random.uniform(lng_range[0], lng_range[1], size=1500)\n",
    "lat_lngs = zip(lats, lngs)\n",
    "\n",
    "# Identify nearest city for each lat, lng combination\n",
    "for lat_lng in lat_lngs:\n",
    "    city = citipy.nearest_city(lat_lng[0], lat_lng[1]).city_name\n",
    "    \n",
    "    # If the city is unique, then add it to a our cities list\n",
    "    if city not in cities:\n",
    "        cities.append(city)\n",
    "\n",
    "# Print the city count to confirm sufficient count\n",
    "len(cities)"
   ]
  },
  {
   "cell_type": "markdown",
   "metadata": {},
   "source": [
    "### Perform API Calls\n",
    "* Perform a weather check on each city using a series of successive API calls.\n",
    "* Include a print log of each city as it'sbeing processed (with the city number and city name).\n"
   ]
  },
  {
   "cell_type": "code",
   "execution_count": 106,
   "metadata": {
    "scrolled": true
   },
   "outputs": [
    {
     "name": "stdout",
     "output_type": "stream",
     "text": [
      "Processing Record 1 of Set 1 | yellowknife\n",
      "Processing Record 2 of Set 1 | keningau\n",
      "Processing Record 3 of Set 1 | saint-joseph\n",
      "Processing Record 4 of Set 1 | krivodol\n",
      "Processing Record 5 of Set 1 | puerto ayora\n",
      "Processing Record 6 of Set 1 | rikitea\n",
      "Processing Record 7 of Set 1 | arraial do cabo\n",
      "City 'grand river south east' not found. Skipping...\n",
      "City 'illoqqortoormiut' not found. Skipping...\n",
      "Processing Record 8 of Set 1 | moorhead\n",
      "Processing Record 9 of Set 1 | fort nelson\n",
      "Processing Record 10 of Set 1 | peniche\n",
      "Processing Record 11 of Set 1 | codrington\n",
      "Processing Record 12 of Set 1 | albany\n",
      "Processing Record 13 of Set 1 | bandarbeyla\n",
      "Processing Record 14 of Set 1 | new norfolk\n",
      "Processing Record 15 of Set 1 | lebu\n",
      "City 'satitoa' not found. Skipping...\n",
      "Processing Record 16 of Set 1 | astana\n",
      "Processing Record 17 of Set 1 | sao miguel do araguaia\n",
      "Processing Record 18 of Set 1 | cidreira\n",
      "Processing Record 19 of Set 1 | sinazongwe\n",
      "City 'belushya guba' not found. Skipping...\n",
      "Processing Record 20 of Set 1 | hermanus\n",
      "Processing Record 21 of Set 1 | nome\n",
      "Processing Record 22 of Set 1 | san patricio\n",
      "Processing Record 23 of Set 1 | tevaitoa\n",
      "Processing Record 24 of Set 1 | teya\n",
      "Processing Record 25 of Set 1 | kapaa\n",
      "Processing Record 26 of Set 1 | mpika\n",
      "Processing Record 27 of Set 1 | rapar\n",
      "City 'karaul' not found. Skipping...\n",
      "Processing Record 28 of Set 1 | bluff\n",
      "Processing Record 29 of Set 1 | chokurdakh\n",
      "City 'taolanaro' not found. Skipping...\n",
      "Processing Record 30 of Set 1 | tuktoyaktuk\n",
      "Processing Record 31 of Set 1 | sitka\n",
      "Processing Record 32 of Set 1 | cocobeach\n",
      "Processing Record 33 of Set 1 | korla\n",
      "Processing Record 34 of Set 1 | cherskiy\n",
      "Processing Record 35 of Set 1 | el sauzal\n",
      "Processing Record 36 of Set 1 | teguldet\n",
      "Processing Record 37 of Set 1 | ushuaia\n",
      "Processing Record 38 of Set 1 | sikonge\n",
      "Processing Record 39 of Set 1 | masuguru\n",
      "Processing Record 40 of Set 1 | hithadhoo\n",
      "Processing Record 41 of Set 1 | neiafu\n",
      "Processing Record 42 of Set 1 | ribeira grande\n",
      "Processing Record 43 of Set 1 | arman\n",
      "Processing Record 44 of Set 1 | komsomolskiy\n",
      "Processing Record 45 of Set 1 | pierre\n",
      "Processing Record 46 of Set 1 | provideniya\n",
      "City 'samusu' not found. Skipping...\n",
      "Processing Record 47 of Set 1 | husavik\n",
      "Processing Record 48 of Set 1 | ostrovnoy\n",
      "Processing Record 49 of Set 1 | dunedin\n",
      "Processing Record 50 of Set 1 | bredasdorp\n",
      "Processing Record 1 of Set 2 | souillac\n",
      "Processing Record 2 of Set 2 | mataura\n",
      "Processing Record 3 of Set 2 | jamestown\n",
      "Processing Record 4 of Set 2 | kigoma\n",
      "Processing Record 5 of Set 2 | namatanai\n",
      "Processing Record 6 of Set 2 | verkhnyaya toyma\n",
      "Processing Record 7 of Set 2 | talnakh\n",
      "Processing Record 8 of Set 2 | port alfred\n",
      "Processing Record 9 of Set 2 | barrow\n",
      "Processing Record 10 of Set 2 | margate\n",
      "Processing Record 11 of Set 2 | ailigandi\n",
      "Processing Record 12 of Set 2 | saskylakh\n",
      "Processing Record 13 of Set 2 | victoria\n",
      "Processing Record 14 of Set 2 | morondava\n",
      "City 'gulshat' not found. Skipping...\n",
      "Processing Record 15 of Set 2 | faanui\n",
      "Processing Record 16 of Set 2 | mitu\n",
      "Processing Record 17 of Set 2 | ponta do sol\n",
      "Processing Record 18 of Set 2 | tuzha\n",
      "Processing Record 19 of Set 2 | izhma\n",
      "Processing Record 20 of Set 2 | flinders\n",
      "Processing Record 21 of Set 2 | hamilton\n",
      "Processing Record 22 of Set 2 | mabaruma\n",
      "Processing Record 23 of Set 2 | vaini\n",
      "Processing Record 24 of Set 2 | bambous virieux\n",
      "Processing Record 25 of Set 2 | lorengau\n",
      "City 'gurgan' not found. Skipping...\n",
      "Processing Record 26 of Set 2 | santa fe\n",
      "Processing Record 27 of Set 2 | chuy\n",
      "Processing Record 28 of Set 2 | alofi\n",
      "Processing Record 29 of Set 2 | san rafael\n",
      "Processing Record 30 of Set 2 | haradok\n",
      "Processing Record 31 of Set 2 | chara\n",
      "Processing Record 32 of Set 2 | dikson\n",
      "City 'mocambique' not found. Skipping...\n",
      "Processing Record 33 of Set 2 | lavrentiya\n",
      "Processing Record 34 of Set 2 | kitui\n",
      "Processing Record 35 of Set 2 | hilo\n",
      "Processing Record 36 of Set 2 | georgetown\n",
      "Processing Record 37 of Set 2 | port lincoln\n",
      "Processing Record 38 of Set 2 | axim\n",
      "City 'marcona' not found. Skipping...\n",
      "Processing Record 39 of Set 2 | yulara\n",
      "Processing Record 40 of Set 2 | nanortalik\n",
      "Processing Record 41 of Set 2 | kruisfontein\n",
      "Processing Record 42 of Set 2 | carnarvon\n",
      "Processing Record 43 of Set 2 | punta arenas\n",
      "Processing Record 44 of Set 2 | saint anthony\n",
      "Processing Record 45 of Set 2 | yumen\n",
      "Processing Record 46 of Set 2 | bairiki\n",
      "Processing Record 47 of Set 2 | zinder\n",
      "Processing Record 48 of Set 2 | suez\n",
      "Processing Record 49 of Set 2 | luderitz\n",
      "City 'sentyabrskiy' not found. Skipping...\n",
      "Processing Record 50 of Set 2 | harer\n",
      "Processing Record 1 of Set 3 | ambilobe\n",
      "Processing Record 2 of Set 3 | roma\n",
      "Processing Record 3 of Set 3 | port hardy\n",
      "Processing Record 4 of Set 3 | usinsk\n",
      "Processing Record 5 of Set 3 | atuona\n",
      "Processing Record 6 of Set 3 | saint-philippe\n",
      "Processing Record 7 of Set 3 | metro\n",
      "Processing Record 8 of Set 3 | dosso\n",
      "Processing Record 9 of Set 3 | castro\n",
      "Processing Record 10 of Set 3 | tessalit\n",
      "Processing Record 11 of Set 3 | melenki\n",
      "City 'mys shmidta' not found. Skipping...\n",
      "Processing Record 12 of Set 3 | kon tum\n",
      "Processing Record 13 of Set 3 | borculo\n",
      "Processing Record 14 of Set 3 | khatanga\n",
      "Processing Record 15 of Set 3 | hobart\n",
      "Processing Record 16 of Set 3 | guatire\n",
      "Processing Record 17 of Set 3 | hualmay\n",
      "Processing Record 18 of Set 3 | amga\n",
      "Processing Record 19 of Set 3 | bud\n",
      "Processing Record 20 of Set 3 | samfya\n",
      "Processing Record 21 of Set 3 | idritsa\n",
      "City 'umzimvubu' not found. Skipping...\n",
      "Processing Record 22 of Set 3 | nuuk\n",
      "Processing Record 23 of Set 3 | clyde river\n",
      "Processing Record 24 of Set 3 | longyearbyen\n",
      "Processing Record 25 of Set 3 | college\n",
      "Processing Record 26 of Set 3 | polis\n",
      "Processing Record 27 of Set 3 | bubaque\n",
      "Processing Record 28 of Set 3 | lukavica\n",
      "Processing Record 29 of Set 3 | butaritari\n",
      "City 'nguiu' not found. Skipping...\n",
      "Processing Record 30 of Set 3 | amalapuram\n",
      "Processing Record 31 of Set 3 | diapaga\n",
      "Processing Record 32 of Set 3 | lata\n",
      "Processing Record 33 of Set 3 | juazeiro\n",
      "Processing Record 34 of Set 3 | maarianhamina\n",
      "Processing Record 35 of Set 3 | san policarpo\n",
      "Processing Record 36 of Set 3 | mar del plata\n",
      "Processing Record 37 of Set 3 | nikolskoye\n",
      "Processing Record 38 of Set 3 | pevek\n",
      "Processing Record 39 of Set 3 | narsaq\n",
      "Processing Record 40 of Set 3 | pisco\n",
      "Processing Record 41 of Set 3 | kunigal\n",
      "City 'lalomanu' not found. Skipping...\n",
      "City 'attawapiskat' not found. Skipping...\n",
      "Processing Record 42 of Set 3 | muros\n",
      "City 'vaitupu' not found. Skipping...\n",
      "Processing Record 43 of Set 3 | airai\n",
      "Processing Record 44 of Set 3 | edson\n",
      "Processing Record 45 of Set 3 | qaanaaq\n",
      "Processing Record 46 of Set 3 | lishui\n",
      "Processing Record 47 of Set 3 | natal\n",
      "Processing Record 48 of Set 3 | trinidad\n",
      "Processing Record 49 of Set 3 | lufilufi\n",
      "Processing Record 50 of Set 3 | esperance\n",
      "Processing Record 1 of Set 4 | tasiilaq\n",
      "Processing Record 2 of Set 4 | deputatskiy\n",
      "Processing Record 3 of Set 4 | libreville\n",
      "Processing Record 4 of Set 4 | port blair\n",
      "Processing Record 5 of Set 4 | bengkulu\n",
      "Processing Record 6 of Set 4 | cockburn town\n",
      "Processing Record 7 of Set 4 | rence\n",
      "Processing Record 8 of Set 4 | busselton\n",
      "Processing Record 9 of Set 4 | areosa\n",
      "Processing Record 10 of Set 4 | kathu\n",
      "Processing Record 11 of Set 4 | skala\n",
      "Processing Record 12 of Set 4 | cape town\n",
      "Processing Record 13 of Set 4 | myitkyina\n",
      "Processing Record 14 of Set 4 | hay river\n",
      "Processing Record 15 of Set 4 | lagunas\n",
      "Processing Record 16 of Set 4 | coihaique\n",
      "Processing Record 17 of Set 4 | huarmey\n",
      "Processing Record 18 of Set 4 | velur\n",
      "Processing Record 19 of Set 4 | saint george\n",
      "Processing Record 20 of Set 4 | samarai\n",
      "Processing Record 21 of Set 4 | tamuin\n",
      "Processing Record 22 of Set 4 | sakaiminato\n",
      "City 'nizhneyansk' not found. Skipping...\n",
      "Processing Record 23 of Set 4 | sayat\n",
      "Processing Record 24 of Set 4 | moose factory\n",
      "Processing Record 25 of Set 4 | leningradskiy\n",
      "Processing Record 26 of Set 4 | orem\n",
      "Processing Record 27 of Set 4 | schwabmunchen\n",
      "Processing Record 28 of Set 4 | secunda\n",
      "City 'saryshagan' not found. Skipping...\n",
      "Processing Record 29 of Set 4 | torbay\n",
      "City 'yanan' not found. Skipping...\n",
      "Processing Record 30 of Set 4 | itaituba\n",
      "Processing Record 31 of Set 4 | mahebourg\n",
      "Processing Record 32 of Set 4 | kodiak\n",
      "Processing Record 33 of Set 4 | westport\n",
      "Processing Record 34 of Set 4 | vestmanna\n",
      "Processing Record 35 of Set 4 | necochea\n",
      "Processing Record 36 of Set 4 | thompson\n",
      "Processing Record 37 of Set 4 | medina\n",
      "Processing Record 38 of Set 4 | byron bay\n",
      "Processing Record 39 of Set 4 | noumea\n",
      "Processing Record 40 of Set 4 | masvingo\n",
      "Processing Record 41 of Set 4 | hermiston\n",
      "Processing Record 42 of Set 4 | tuy hoa\n",
      "Processing Record 43 of Set 4 | khandyga\n",
      "Processing Record 44 of Set 4 | palembang\n",
      "Processing Record 45 of Set 4 | gamba\n",
      "Processing Record 46 of Set 4 | santa catalina\n",
      "Processing Record 47 of Set 4 | sao joao da barra\n",
      "Processing Record 48 of Set 4 | bani walid\n",
      "City 'amderma' not found. Skipping...\n",
      "Processing Record 49 of Set 4 | klaksvik\n",
      "Processing Record 50 of Set 4 | sola\n",
      "Processing Record 1 of Set 5 | nkhata bay\n",
      "Processing Record 2 of Set 5 | mutoko\n",
      "Processing Record 3 of Set 5 | lazaro cardenas\n",
      "Processing Record 4 of Set 5 | klyuchi\n",
      "Processing Record 5 of Set 5 | bethel\n",
      "Processing Record 6 of Set 5 | haines junction\n",
      "City 'umm durman' not found. Skipping...\n",
      "Processing Record 7 of Set 5 | yatou\n",
      "Processing Record 8 of Set 5 | bojnurd\n",
      "Processing Record 9 of Set 5 | hambantota\n",
      "Processing Record 10 of Set 5 | tlacotepec\n",
      "City 'tabiauea' not found. Skipping...\n",
      "Processing Record 11 of Set 5 | norman wells\n",
      "Processing Record 12 of Set 5 | kirkland lake\n",
      "Processing Record 13 of Set 5 | sioux lookout\n",
      "Processing Record 14 of Set 5 | edd\n",
      "Processing Record 15 of Set 5 | landerneau\n",
      "Processing Record 16 of Set 5 | taoudenni\n",
      "Processing Record 17 of Set 5 | avarua\n",
      "Processing Record 18 of Set 5 | san quintin\n",
      "Processing Record 19 of Set 5 | mount gambier\n",
      "Processing Record 20 of Set 5 | inuvik\n",
      "Processing Record 21 of Set 5 | kaitangata\n",
      "Processing Record 22 of Set 5 | palma\n",
      "Processing Record 23 of Set 5 | bilma\n",
      "City 'banmo' not found. Skipping...\n",
      "Processing Record 24 of Set 5 | okhotsk\n",
      "City 'cookshire' not found. Skipping...\n",
      "City 'tumannyy' not found. Skipping...\n",
      "Processing Record 25 of Set 5 | puerto ayacucho\n",
      "Processing Record 26 of Set 5 | tarecuato\n",
      "Processing Record 27 of Set 5 | vardo\n",
      "Processing Record 28 of Set 5 | suntar\n",
      "Processing Record 29 of Set 5 | la ronge\n",
      "Processing Record 30 of Set 5 | ancud\n",
      "Processing Record 31 of Set 5 | port hedland\n",
      "Processing Record 32 of Set 5 | churapcha\n",
      "Processing Record 33 of Set 5 | phaltan\n",
      "Processing Record 34 of Set 5 | kuusamo\n",
      "Processing Record 35 of Set 5 | ahipara\n",
      "Processing Record 36 of Set 5 | murgab\n",
      "Processing Record 37 of Set 5 | half moon bay\n",
      "City 'bacuit' not found. Skipping...\n",
      "Processing Record 38 of Set 5 | roald\n",
      "Processing Record 39 of Set 5 | belyy yar\n",
      "Processing Record 40 of Set 5 | launceston\n",
      "Processing Record 41 of Set 5 | san marcos de colon\n",
      "Processing Record 42 of Set 5 | rio gallegos\n",
      "City 'katsiveli' not found. Skipping...\n",
      "Processing Record 43 of Set 5 | rulenge\n",
      "Processing Record 44 of Set 5 | lusambo\n",
      "Processing Record 45 of Set 5 | tezu\n",
      "Processing Record 46 of Set 5 | gayny\n",
      "Processing Record 47 of Set 5 | east london\n",
      "Processing Record 48 of Set 5 | dingle\n",
      "City 'bur gabo' not found. Skipping...\n",
      "City 'tsihombe' not found. Skipping...\n",
      "Processing Record 49 of Set 5 | harper\n",
      "Processing Record 50 of Set 5 | nagato\n",
      "Processing Record 1 of Set 6 | kourou\n",
      "Processing Record 2 of Set 6 | tynec nad sazavou\n",
      "Processing Record 3 of Set 6 | berdigestyakh\n",
      "Processing Record 4 of Set 6 | saint-francois\n",
      "Processing Record 5 of Set 6 | los zacatones\n",
      "Processing Record 6 of Set 6 | roros\n",
      "Processing Record 7 of Set 6 | rochegda\n",
      "Processing Record 8 of Set 6 | great yarmouth\n",
      "Processing Record 9 of Set 6 | naantali\n",
      "Processing Record 10 of Set 6 | cap malheureux\n",
      "Processing Record 11 of Set 6 | paamiut\n",
      "Processing Record 12 of Set 6 | mount isa\n",
      "Processing Record 13 of Set 6 | skjervoy\n",
      "Processing Record 14 of Set 6 | pilar\n",
      "Processing Record 15 of Set 6 | lensk\n",
      "Processing Record 16 of Set 6 | villagarzon\n",
      "Processing Record 17 of Set 6 | kalmunai\n",
      "City 'sorvag' not found. Skipping...\n",
      "Processing Record 18 of Set 6 | ilulissat\n",
      "Processing Record 19 of Set 6 | viedma\n",
      "Processing Record 20 of Set 6 | tiksi\n",
      "Processing Record 21 of Set 6 | badiraguato\n",
      "Processing Record 22 of Set 6 | upernavik\n",
      "Processing Record 23 of Set 6 | kimbe\n",
      "Processing Record 24 of Set 6 | cervo\n",
      "Processing Record 25 of Set 6 | fairbanks\n",
      "Processing Record 26 of Set 6 | mahon\n",
      "City 'ust-kamchatsk' not found. Skipping...\n",
      "Processing Record 27 of Set 6 | tucuman\n",
      "Processing Record 28 of Set 6 | phalodi\n",
      "Processing Record 29 of Set 6 | gidam\n",
      "Processing Record 30 of Set 6 | rincon\n",
      "Processing Record 31 of Set 6 | zheshart\n",
      "Processing Record 32 of Set 6 | aklavik\n",
      "Processing Record 33 of Set 6 | teutonia\n",
      "Processing Record 34 of Set 6 | iqaluit\n",
      "Processing Record 35 of Set 6 | touros\n",
      "Processing Record 36 of Set 6 | ebolowa\n",
      "Processing Record 37 of Set 6 | chicaman\n",
      "Processing Record 38 of Set 6 | mandal\n",
      "Processing Record 39 of Set 6 | delano\n",
      "City 'jujuy' not found. Skipping...\n",
      "Processing Record 40 of Set 6 | bad aussee\n",
      "Processing Record 41 of Set 6 | kinkala\n",
      "Processing Record 42 of Set 6 | lakes entrance\n",
      "Processing Record 43 of Set 6 | kodinsk\n",
      "Processing Record 44 of Set 6 | clocolan\n",
      "Processing Record 45 of Set 6 | morgan city\n",
      "Processing Record 46 of Set 6 | stornoway\n",
      "Processing Record 47 of Set 6 | west des moines\n",
      "Processing Record 48 of Set 6 | beira\n",
      "City 'dolbeau' not found. Skipping...\n",
      "Processing Record 49 of Set 6 | conde\n",
      "Processing Record 50 of Set 6 | gat\n",
      "Processing Record 1 of Set 7 | merauke\n",
      "Processing Record 2 of Set 7 | ishinomaki\n",
      "Processing Record 3 of Set 7 | svetlogorsk\n",
      "Processing Record 4 of Set 7 | alice springs\n",
      "Processing Record 5 of Set 7 | kabare\n",
      "Processing Record 6 of Set 7 | richards bay\n",
      "Processing Record 7 of Set 7 | dodge city\n",
      "Processing Record 8 of Set 7 | port macquarie\n",
      "Processing Record 9 of Set 7 | vallenar\n",
      "Processing Record 10 of Set 7 | oxford\n",
      "City 'saleaula' not found. Skipping...\n",
      "Processing Record 11 of Set 7 | hastings\n",
      "Processing Record 12 of Set 7 | waingapu\n",
      "Processing Record 13 of Set 7 | te anau\n",
      "Processing Record 14 of Set 7 | adrar\n",
      "Processing Record 15 of Set 7 | chakwal\n",
      "Processing Record 16 of Set 7 | tautira\n",
      "Processing Record 17 of Set 7 | ucluelet\n",
      "Processing Record 18 of Set 7 | mae sot\n",
      "Processing Record 19 of Set 7 | macheng\n",
      "Processing Record 20 of Set 7 | pout\n",
      "Processing Record 21 of Set 7 | tiarei\n",
      "Processing Record 22 of Set 7 | massaguet\n",
      "Processing Record 23 of Set 7 | peace river\n",
      "Processing Record 24 of Set 7 | anadyr\n",
      "Processing Record 25 of Set 7 | bereda\n",
      "Processing Record 26 of Set 7 | lompoc\n",
      "Processing Record 27 of Set 7 | san julian\n",
      "Processing Record 28 of Set 7 | stulovo\n",
      "Processing Record 29 of Set 7 | kirishi\n",
      "Processing Record 30 of Set 7 | port elizabeth\n",
      "Processing Record 31 of Set 7 | ust-kuyga\n",
      "Processing Record 32 of Set 7 | wajima\n",
      "City 'babanusah' not found. Skipping...\n",
      "Processing Record 33 of Set 7 | portland\n",
      "Processing Record 34 of Set 7 | aksarka\n",
      "Processing Record 35 of Set 7 | olinda\n",
      "City 'meyungs' not found. Skipping...\n",
      "Processing Record 36 of Set 7 | saint-augustin\n",
      "Processing Record 37 of Set 7 | mizan teferi\n",
      "Processing Record 38 of Set 7 | keuruu\n",
      "Processing Record 39 of Set 7 | bathsheba\n",
      "Processing Record 40 of Set 7 | tura\n",
      "Processing Record 41 of Set 7 | innisfail\n",
      "City 'barentsburg' not found. Skipping...\n",
      "Processing Record 42 of Set 7 | arras\n",
      "Processing Record 43 of Set 7 | koslan\n",
      "Processing Record 44 of Set 7 | honiara\n",
      "Processing Record 45 of Set 7 | banda aceh\n",
      "Processing Record 46 of Set 7 | arkhara\n",
      "Processing Record 47 of Set 7 | acajutla\n",
      "City 'palabuhanratu' not found. Skipping...\n",
      "Processing Record 48 of Set 7 | thyboron\n",
      "Processing Record 49 of Set 7 | kamenka\n",
      "Processing Record 50 of Set 7 | umea\n",
      "Processing Record 1 of Set 8 | ninghai\n",
      "Processing Record 2 of Set 8 | fria\n",
      "Processing Record 3 of Set 8 | beyneu\n",
      "Processing Record 4 of Set 8 | basco\n",
      "Processing Record 5 of Set 8 | kulhudhuffushi\n",
      "Processing Record 6 of Set 8 | bonnyville\n",
      "Processing Record 7 of Set 8 | wanning\n",
      "Processing Record 8 of Set 8 | angoram\n",
      "Processing Record 9 of Set 8 | ayan\n",
      "Processing Record 10 of Set 8 | lasa\n",
      "Processing Record 11 of Set 8 | balkhash\n",
      "Processing Record 12 of Set 8 | durango\n",
      "Processing Record 13 of Set 8 | lachi\n",
      "Processing Record 14 of Set 8 | tres arroyos\n",
      "Processing Record 15 of Set 8 | derzhavinsk\n",
      "Processing Record 16 of Set 8 | saint-pierre\n",
      "Processing Record 17 of Set 8 | geraldton\n",
      "Processing Record 18 of Set 8 | luganville\n",
      "Processing Record 19 of Set 8 | esna\n",
      "Processing Record 20 of Set 8 | barranca\n",
      "Processing Record 21 of Set 8 | chiang klang\n",
      "Processing Record 22 of Set 8 | laguna de duero\n",
      "Processing Record 23 of Set 8 | laguna\n",
      "Processing Record 24 of Set 8 | vila franca do campo\n",
      "Processing Record 25 of Set 8 | ponta delgada\n",
      "Processing Record 26 of Set 8 | feicheng\n",
      "Processing Record 27 of Set 8 | brae\n",
      "Processing Record 28 of Set 8 | cayenne\n",
      "Processing Record 29 of Set 8 | ilmajoki\n",
      "Processing Record 30 of Set 8 | grajau\n",
      "Processing Record 31 of Set 8 | sao filipe\n",
      "Processing Record 32 of Set 8 | muyezerskiy\n",
      "Processing Record 33 of Set 8 | nelson bay\n",
      "Processing Record 34 of Set 8 | vikhorevka\n",
      "Processing Record 35 of Set 8 | krasnoselkup\n",
      "Processing Record 36 of Set 8 | tupiza\n",
      "Processing Record 37 of Set 8 | danilov\n",
      "Processing Record 38 of Set 8 | kasempa\n",
      "City 'mrirt' not found. Skipping...\n",
      "Processing Record 39 of Set 8 | matagami\n",
      "Processing Record 40 of Set 8 | buraydah\n",
      "Processing Record 41 of Set 8 | lake charles\n",
      "Processing Record 42 of Set 8 | tuatapere\n",
      "Processing Record 43 of Set 8 | quatre cocos\n",
      "Processing Record 44 of Set 8 | vila velha\n",
      "City 'toliary' not found. Skipping...\n",
      "Processing Record 45 of Set 8 | fairlie\n",
      "Processing Record 46 of Set 8 | wattegama\n",
      "Processing Record 47 of Set 8 | valparaiso\n",
      "Processing Record 48 of Set 8 | biak\n",
      "Processing Record 49 of Set 8 | uruzgan\n",
      "Processing Record 50 of Set 8 | carutapera\n",
      "Processing Record 1 of Set 9 | kavaratti\n",
      "Processing Record 2 of Set 9 | houston\n",
      "Processing Record 3 of Set 9 | turukhansk\n",
      "Processing Record 4 of Set 9 | neuquen\n",
      "Processing Record 5 of Set 9 | severo-kurilsk\n",
      "Processing Record 6 of Set 9 | marinette\n",
      "City 'shkotovo-26' not found. Skipping...\n",
      "Processing Record 7 of Set 9 | katsuura\n",
      "Processing Record 8 of Set 9 | agirish\n",
      "Processing Record 9 of Set 9 | davila\n",
      "Processing Record 10 of Set 9 | zeya\n",
      "Processing Record 11 of Set 9 | oussouye\n",
      "Processing Record 12 of Set 9 | pakxan\n",
      "Processing Record 13 of Set 9 | fortuna\n",
      "Processing Record 14 of Set 9 | olafsvik\n",
      "Processing Record 15 of Set 9 | kaeo\n",
      "Processing Record 16 of Set 9 | pirogovo\n",
      "City 'jiddah' not found. Skipping...\n",
      "Processing Record 17 of Set 9 | ngunguru\n",
      "Processing Record 18 of Set 9 | fukue\n",
      "Processing Record 19 of Set 9 | jharsuguda\n",
      "Processing Record 20 of Set 9 | bambari\n",
      "Processing Record 21 of Set 9 | linxia\n",
      "City 'longlac' not found. Skipping...\n",
      "Processing Record 22 of Set 9 | machado\n",
      "Processing Record 23 of Set 9 | darhan\n",
      "Processing Record 24 of Set 9 | bay roberts\n",
      "Processing Record 25 of Set 9 | xacmaz\n",
      "Processing Record 26 of Set 9 | san cristobal\n",
      "Processing Record 27 of Set 9 | rakaia\n",
      "Processing Record 28 of Set 9 | ciudad bolivar\n",
      "Processing Record 29 of Set 9 | guaruja\n",
      "Processing Record 30 of Set 9 | camopi\n",
      "Processing Record 31 of Set 9 | quang ngai\n",
      "City 'glubokoe' not found. Skipping...\n",
      "Processing Record 32 of Set 9 | vestmannaeyjar\n",
      "Processing Record 33 of Set 9 | beloha\n",
      "Processing Record 34 of Set 9 | porto walter\n",
      "Processing Record 35 of Set 9 | umm lajj\n",
      "Processing Record 36 of Set 9 | alappuzha\n",
      "Processing Record 37 of Set 9 | bauta\n",
      "Processing Record 38 of Set 9 | beringovskiy\n",
      "Processing Record 39 of Set 9 | henties bay\n",
      "Processing Record 40 of Set 9 | araguari\n",
      "Processing Record 41 of Set 9 | lethem\n",
      "Processing Record 42 of Set 9 | takoradi\n",
      "Processing Record 43 of Set 9 | hami\n",
      "Processing Record 44 of Set 9 | pacific grove\n",
      "Processing Record 45 of Set 9 | magaria\n",
      "Processing Record 46 of Set 9 | maple valley\n",
      "Processing Record 47 of Set 9 | vao\n",
      "Processing Record 48 of Set 9 | yerofey pavlovich\n",
      "City 'aflu' not found. Skipping...\n",
      "Processing Record 49 of Set 9 | west wendover\n",
      "Processing Record 50 of Set 9 | manokwari\n",
      "Processing Record 1 of Set 10 | sesimbra\n",
      "Processing Record 2 of Set 10 | rawson\n",
      "Processing Record 3 of Set 10 | miramar\n",
      "Processing Record 4 of Set 10 | gorele\n",
      "Processing Record 5 of Set 10 | riachao\n",
      "Processing Record 6 of Set 10 | hasaki\n",
      "Processing Record 7 of Set 10 | kavieng\n",
      "Processing Record 8 of Set 10 | sivas\n",
      "Processing Record 9 of Set 10 | tongzi\n",
      "Processing Record 10 of Set 10 | sao geraldo do araguaia\n",
      "Processing Record 11 of Set 10 | namibe\n",
      "Processing Record 12 of Set 10 | pahasu\n",
      "Processing Record 13 of Set 10 | vostok\n",
      "City 'kachikau' not found. Skipping...\n",
      "City 'talawdi' not found. Skipping...\n",
      "Processing Record 14 of Set 10 | kandrian\n",
      "Processing Record 15 of Set 10 | naples\n",
      "Processing Record 16 of Set 10 | hun\n",
      "Processing Record 17 of Set 10 | boralday\n",
      "Processing Record 18 of Set 10 | inhambane\n",
      "Processing Record 19 of Set 10 | tabou\n",
      "Processing Record 20 of Set 10 | wichita\n",
      "Processing Record 21 of Set 10 | tobol\n",
      "Processing Record 22 of Set 10 | freetown\n",
      "Processing Record 23 of Set 10 | jiayuguan\n",
      "Processing Record 24 of Set 10 | pizhanka\n",
      "Processing Record 25 of Set 10 | asau\n",
      "Processing Record 26 of Set 10 | calvinia\n",
      "Processing Record 27 of Set 10 | zhigansk\n",
      "Processing Record 28 of Set 10 | pitimbu\n",
      "Processing Record 29 of Set 10 | krasnyy profintern\n",
      "Processing Record 30 of Set 10 | grand-lahou\n",
      "Processing Record 31 of Set 10 | osypenko\n",
      "Processing Record 32 of Set 10 | sortavala\n",
      "Processing Record 33 of Set 10 | luebo\n",
      "Processing Record 34 of Set 10 | los llanos de aridane\n",
      "Processing Record 35 of Set 10 | hobyo\n",
      "Processing Record 36 of Set 10 | tukrah\n",
      "Processing Record 37 of Set 10 | kentville\n",
      "Processing Record 38 of Set 10 | colquechaca\n",
      "Processing Record 39 of Set 10 | vechelde\n",
      "Processing Record 40 of Set 10 | campbell river\n",
      "Processing Record 41 of Set 10 | tabas\n",
      "Processing Record 42 of Set 10 | platanos\n",
      "Processing Record 43 of Set 10 | billings\n",
      "Processing Record 44 of Set 10 | caravelas\n",
      "Processing Record 45 of Set 10 | hailey\n",
      "Processing Record 46 of Set 10 | gizo\n",
      "Processing Record 47 of Set 10 | mangrol\n",
      "Processing Record 48 of Set 10 | filingue\n",
      "Processing Record 49 of Set 10 | aranos\n",
      "Processing Record 50 of Set 10 | lagoa\n",
      "Processing Record 1 of Set 11 | maceio\n",
      "Processing Record 2 of Set 11 | bagdarin\n",
      "Processing Record 3 of Set 11 | flin flon\n",
      "Processing Record 4 of Set 11 | binalbagan\n",
      "Processing Record 5 of Set 11 | vasto\n",
      "Processing Record 6 of Set 11 | verkhnevilyuysk\n",
      "Processing Record 7 of Set 11 | luena\n",
      "Processing Record 8 of Set 11 | guaranda\n",
      "Processing Record 9 of Set 11 | melilla\n",
      "Processing Record 10 of Set 11 | kindu\n",
      "Processing Record 11 of Set 11 | la asuncion\n",
      "Processing Record 12 of Set 11 | kuzhener\n",
      "Processing Record 13 of Set 11 | constitucion\n",
      "Processing Record 14 of Set 11 | wekiva springs\n",
      "Processing Record 15 of Set 11 | north bend\n",
      "Processing Record 16 of Set 11 | broome\n",
      "Processing Record 17 of Set 11 | cam ranh\n",
      "Processing Record 18 of Set 11 | asyut\n",
      "Processing Record 19 of Set 11 | baiyin\n",
      "Processing Record 20 of Set 11 | ankazoabo\n",
      "Processing Record 21 of Set 11 | bjorkelangen\n",
      "Processing Record 22 of Set 11 | charters towers\n",
      "Processing Record 23 of Set 11 | manta\n",
      "Processing Record 24 of Set 11 | bilibino\n",
      "Processing Record 25 of Set 11 | rio claro\n",
      "Processing Record 26 of Set 11 | constantine\n",
      "Processing Record 27 of Set 11 | qasigiannguit\n",
      "Processing Record 28 of Set 11 | praya\n",
      "Processing Record 29 of Set 11 | perth\n",
      "Processing Record 30 of Set 11 | chernoyerkovskaya\n",
      "Processing Record 31 of Set 11 | aldan\n",
      "Processing Record 32 of Set 11 | poronaysk\n",
      "Processing Record 33 of Set 11 | ust-tsilma\n",
      "Processing Record 34 of Set 11 | nouadhibou\n",
      "Processing Record 35 of Set 11 | novovelichkovskaya\n",
      "Processing Record 36 of Set 11 | teahupoo\n",
      "Processing Record 37 of Set 11 | monroe\n",
      "Processing Record 38 of Set 11 | makakilo city\n",
      "Processing Record 39 of Set 11 | mchinji\n",
      "Processing Record 40 of Set 11 | hornepayne\n",
      "Processing Record 41 of Set 11 | isangel\n",
      "Processing Record 42 of Set 11 | baltiysk\n",
      "Processing Record 43 of Set 11 | oranjemund\n",
      "Processing Record 44 of Set 11 | three hills\n",
      "Processing Record 45 of Set 11 | colac\n",
      "Processing Record 46 of Set 11 | ondjiva\n",
      "Processing Record 47 of Set 11 | abnub\n",
      "Processing Record 48 of Set 11 | kudahuvadhoo\n",
      "Processing Record 49 of Set 11 | pandan\n",
      "Processing Record 50 of Set 11 | atbasar\n",
      "Processing Record 1 of Set 12 | batavia\n",
      "Processing Record 2 of Set 12 | plainview\n",
      "Processing Record 3 of Set 12 | bayir\n",
      "Processing Record 4 of Set 12 | basoko\n",
      "Processing Record 5 of Set 12 | villa sandino\n",
      "Processing Record 6 of Set 12 | ketchikan\n",
      "Processing Record 7 of Set 12 | birin\n",
      "Processing Record 8 of Set 12 | virginia beach\n",
      "Processing Record 9 of Set 12 | urumqi\n",
      "Processing Record 10 of Set 12 | malanje\n",
      "Processing Record 11 of Set 12 | grand gaube\n",
      "Processing Record 12 of Set 12 | hofn\n",
      "Processing Record 13 of Set 12 | miranda\n",
      "Processing Record 14 of Set 12 | hurup\n",
      "Processing Record 15 of Set 12 | senneterre\n",
      "Processing Record 16 of Set 12 | rumonge\n",
      "Processing Record 17 of Set 12 | kirakira\n",
      "Processing Record 18 of Set 12 | guerrero negro\n",
      "Processing Record 19 of Set 12 | avera\n",
      "Processing Record 20 of Set 12 | kahului\n",
      "City 'paradwip' not found. Skipping...\n",
      "Processing Record 21 of Set 12 | sorong\n"
     ]
    }
   ],
   "source": [
    "from citipy import citipy\n",
    "from api_keys import weather_api_key\n",
    "import time\n",
    "\n",
    "RECORD_LIMIT = 50 # number of records\n",
    "TIME_LIMIT = 60 #in seconds\n",
    "\n",
    "# For debug limit number of cities to the first 5\n",
    "# RECORD_LIMIT = 5 # number of records\n",
    "# TIME_LIMIT = 6 #in seconds\n",
    "# cities = cities[:10]\n",
    "\n",
    "url = \"http://api.openweathermap.org/data/2.5/weather?\"\n",
    "params = {\n",
    "    'appid': weather_api_key,\n",
    "    'q': '',\n",
    "    'units': 'imperial'\n",
    "}\n",
    "city_json_data = {}\n",
    "\n",
    "\n",
    "record_count = 1\n",
    "set_count = 1\n",
    "for city in cities:\n",
    "    \n",
    "    params['q'] = city\n",
    "    response = requests.get(url, params=params)\n",
    "\n",
    "    if (response.status_code == 200):\n",
    "        print(f\"Processing Record {record_count} of Set {set_count} | {city}\")\n",
    "        \n",
    "        city_json_data[city] = response.json()\n",
    "\n",
    "        # Free API limits us to 60 calls per minute\n",
    "        # Use 50 here to avoid running into any issue\n",
    "        # More info here: \n",
    "        # https://home.openweathermap.org/subscriptions\n",
    "        if record_count == RECORD_LIMIT:\n",
    "            record_count = 0\n",
    "            set_count +=1\n",
    "            time.sleep(TIME_LIMIT)\n",
    "\n",
    "        record_count += 1\n",
    "        \n",
    "    else:\n",
    "        print(f\"City '{city}' not found. Skipping...\")\n",
    "\n",
    "# print(city_json_data) "
   ]
  },
  {
   "cell_type": "markdown",
   "metadata": {},
   "source": [
    "### Convert Raw Data to DataFrame\n",
    "* Export the city data into a .csv.\n",
    "* Display the DataFrame"
   ]
  },
  {
   "cell_type": "code",
   "execution_count": 161,
   "metadata": {},
   "outputs": [
    {
     "data": {
      "text/html": [
       "<div>\n",
       "<style scoped>\n",
       "    .dataframe tbody tr th:only-of-type {\n",
       "        vertical-align: middle;\n",
       "    }\n",
       "\n",
       "    .dataframe tbody tr th {\n",
       "        vertical-align: top;\n",
       "    }\n",
       "\n",
       "    .dataframe thead th {\n",
       "        text-align: right;\n",
       "    }\n",
       "</style>\n",
       "<table border=\"1\" class=\"dataframe\">\n",
       "  <thead>\n",
       "    <tr style=\"text-align: right;\">\n",
       "      <th></th>\n",
       "      <th>City</th>\n",
       "      <th>Lat</th>\n",
       "      <th>Lng</th>\n",
       "      <th>Max Temp</th>\n",
       "      <th>Humidity</th>\n",
       "      <th>Cloudiness</th>\n",
       "      <th>Wind Speed</th>\n",
       "      <th>Country</th>\n",
       "      <th>Date</th>\n",
       "    </tr>\n",
       "  </thead>\n",
       "  <tbody>\n",
       "    <tr>\n",
       "      <th>0</th>\n",
       "      <td>yellowknife</td>\n",
       "      <td>62.4560</td>\n",
       "      <td>-114.3525</td>\n",
       "      <td>67.32</td>\n",
       "      <td>72.0</td>\n",
       "      <td>20.0</td>\n",
       "      <td>1.01</td>\n",
       "      <td>CA</td>\n",
       "      <td>1.627806e+09</td>\n",
       "    </tr>\n",
       "    <tr>\n",
       "      <th>1</th>\n",
       "      <td>keningau</td>\n",
       "      <td>5.3378</td>\n",
       "      <td>116.1602</td>\n",
       "      <td>86.45</td>\n",
       "      <td>69.0</td>\n",
       "      <td>96.0</td>\n",
       "      <td>4.54</td>\n",
       "      <td>MY</td>\n",
       "      <td>1.627806e+09</td>\n",
       "    </tr>\n",
       "    <tr>\n",
       "      <th>2</th>\n",
       "      <td>saint-joseph</td>\n",
       "      <td>-21.3667</td>\n",
       "      <td>55.6167</td>\n",
       "      <td>75.58</td>\n",
       "      <td>76.0</td>\n",
       "      <td>21.0</td>\n",
       "      <td>13.62</td>\n",
       "      <td>RE</td>\n",
       "      <td>1.627806e+09</td>\n",
       "    </tr>\n",
       "    <tr>\n",
       "      <th>3</th>\n",
       "      <td>krivodol</td>\n",
       "      <td>43.3744</td>\n",
       "      <td>23.4844</td>\n",
       "      <td>96.13</td>\n",
       "      <td>26.0</td>\n",
       "      <td>0.0</td>\n",
       "      <td>3.15</td>\n",
       "      <td>BG</td>\n",
       "      <td>1.627806e+09</td>\n",
       "    </tr>\n",
       "    <tr>\n",
       "      <th>4</th>\n",
       "      <td>puerto ayora</td>\n",
       "      <td>-0.7393</td>\n",
       "      <td>-90.3518</td>\n",
       "      <td>70.56</td>\n",
       "      <td>90.0</td>\n",
       "      <td>6.0</td>\n",
       "      <td>7.00</td>\n",
       "      <td>EC</td>\n",
       "      <td>1.627806e+09</td>\n",
       "    </tr>\n",
       "    <tr>\n",
       "      <th>...</th>\n",
       "      <td>...</td>\n",
       "      <td>...</td>\n",
       "      <td>...</td>\n",
       "      <td>...</td>\n",
       "      <td>...</td>\n",
       "      <td>...</td>\n",
       "      <td>...</td>\n",
       "      <td>...</td>\n",
       "      <td>...</td>\n",
       "    </tr>\n",
       "    <tr>\n",
       "      <th>566</th>\n",
       "      <td>kirakira</td>\n",
       "      <td>-10.4544</td>\n",
       "      <td>161.9205</td>\n",
       "      <td>75.27</td>\n",
       "      <td>81.0</td>\n",
       "      <td>100.0</td>\n",
       "      <td>7.29</td>\n",
       "      <td>SB</td>\n",
       "      <td>1.627807e+09</td>\n",
       "    </tr>\n",
       "    <tr>\n",
       "      <th>567</th>\n",
       "      <td>guerrero negro</td>\n",
       "      <td>27.9769</td>\n",
       "      <td>-114.0611</td>\n",
       "      <td>70.79</td>\n",
       "      <td>83.0</td>\n",
       "      <td>7.0</td>\n",
       "      <td>7.83</td>\n",
       "      <td>MX</td>\n",
       "      <td>1.627807e+09</td>\n",
       "    </tr>\n",
       "    <tr>\n",
       "      <th>568</th>\n",
       "      <td>avera</td>\n",
       "      <td>33.1940</td>\n",
       "      <td>-82.5271</td>\n",
       "      <td>80.71</td>\n",
       "      <td>74.0</td>\n",
       "      <td>40.0</td>\n",
       "      <td>5.64</td>\n",
       "      <td>US</td>\n",
       "      <td>1.627807e+09</td>\n",
       "    </tr>\n",
       "    <tr>\n",
       "      <th>569</th>\n",
       "      <td>kahului</td>\n",
       "      <td>20.8947</td>\n",
       "      <td>-156.4700</td>\n",
       "      <td>76.26</td>\n",
       "      <td>77.0</td>\n",
       "      <td>1.0</td>\n",
       "      <td>18.41</td>\n",
       "      <td>US</td>\n",
       "      <td>1.627807e+09</td>\n",
       "    </tr>\n",
       "    <tr>\n",
       "      <th>570</th>\n",
       "      <td>sorong</td>\n",
       "      <td>-0.8833</td>\n",
       "      <td>131.2500</td>\n",
       "      <td>84.83</td>\n",
       "      <td>73.0</td>\n",
       "      <td>100.0</td>\n",
       "      <td>11.88</td>\n",
       "      <td>ID</td>\n",
       "      <td>1.627807e+09</td>\n",
       "    </tr>\n",
       "  </tbody>\n",
       "</table>\n",
       "<p>571 rows × 9 columns</p>\n",
       "</div>"
      ],
      "text/plain": [
       "               City      Lat       Lng  Max Temp  Humidity  Cloudiness  \\\n",
       "0       yellowknife  62.4560 -114.3525     67.32      72.0        20.0   \n",
       "1          keningau   5.3378  116.1602     86.45      69.0        96.0   \n",
       "2      saint-joseph -21.3667   55.6167     75.58      76.0        21.0   \n",
       "3          krivodol  43.3744   23.4844     96.13      26.0         0.0   \n",
       "4      puerto ayora  -0.7393  -90.3518     70.56      90.0         6.0   \n",
       "..              ...      ...       ...       ...       ...         ...   \n",
       "566        kirakira -10.4544  161.9205     75.27      81.0       100.0   \n",
       "567  guerrero negro  27.9769 -114.0611     70.79      83.0         7.0   \n",
       "568           avera  33.1940  -82.5271     80.71      74.0        40.0   \n",
       "569         kahului  20.8947 -156.4700     76.26      77.0         1.0   \n",
       "570          sorong  -0.8833  131.2500     84.83      73.0       100.0   \n",
       "\n",
       "     Wind Speed Country          Date  \n",
       "0          1.01      CA  1.627806e+09  \n",
       "1          4.54      MY  1.627806e+09  \n",
       "2         13.62      RE  1.627806e+09  \n",
       "3          3.15      BG  1.627806e+09  \n",
       "4          7.00      EC  1.627806e+09  \n",
       "..          ...     ...           ...  \n",
       "566        7.29      SB  1.627807e+09  \n",
       "567        7.83      MX  1.627807e+09  \n",
       "568        5.64      US  1.627807e+09  \n",
       "569       18.41      US  1.627807e+09  \n",
       "570       11.88      ID  1.627807e+09  \n",
       "\n",
       "[571 rows x 9 columns]"
      ]
     },
     "execution_count": 161,
     "metadata": {},
     "output_type": "execute_result"
    }
   ],
   "source": [
    "import json\n",
    "\n",
    "# Specify empty column types \n",
    "# https://stackoverflow.com/questions/36462257/create-empty-dataframe-in-pandas-specifying-column-types\n",
    "schema = { \n",
    "    'City': str,\n",
    "    'Lat': float,\n",
    "    'Lng': float,\n",
    "    'Max Temp': float,\n",
    "    'Humidity': int,\n",
    "    'Cloudiness': int,\n",
    "    'Wind Speed': float,\n",
    "    'Country': str,\n",
    "    'Date': int}\n",
    "df = pd.DataFrame(columns=schema.keys()).astype(schema)\n",
    "df['City'] = city_json_data.keys()\n",
    "\n",
    "for index, row in df.iterrows():\n",
    "    city = df.loc[index, 'City']\n",
    "#     print(json.dumps(city_json_data[city], indent=4, sort_keys=True))\n",
    "\n",
    "    df.loc[index, \"Lat\"] = city_json_data[city]['coord']['lat']\n",
    "    df.loc[index, \"Lng\"] = city_json_data[city]['coord']['lon']\n",
    "    df.loc[index, \"Max Temp\"] = city_json_data[city]['main']['temp_max']\n",
    "    df.loc[index, \"Humidity\"] = city_json_data[city]['main']['humidity']\n",
    "    df.loc[index, \"Cloudiness\"] = city_json_data[city]['clouds']['all']\n",
    "    df.loc[index, \"Wind Speed\"] = city_json_data[city]['wind']['speed']\n",
    "    df.loc[index, \"Country\"] = city_json_data[city]['sys']['country']\n",
    "    df.loc[index, \"Date\"] = city_json_data[city]['dt']\n",
    "        \n",
    "df.to_csv(\"city_weather.csv\", encoding=\"utf-8\", index=False)\n",
    "df\n"
   ]
  },
  {
   "cell_type": "code",
   "execution_count": 118,
   "metadata": {},
   "outputs": [
    {
     "data": {
      "text/html": [
       "<div>\n",
       "<style scoped>\n",
       "    .dataframe tbody tr th:only-of-type {\n",
       "        vertical-align: middle;\n",
       "    }\n",
       "\n",
       "    .dataframe tbody tr th {\n",
       "        vertical-align: top;\n",
       "    }\n",
       "\n",
       "    .dataframe thead th {\n",
       "        text-align: right;\n",
       "    }\n",
       "</style>\n",
       "<table border=\"1\" class=\"dataframe\">\n",
       "  <thead>\n",
       "    <tr style=\"text-align: right;\">\n",
       "      <th></th>\n",
       "      <th>Lat</th>\n",
       "      <th>Lng</th>\n",
       "      <th>Max Temp</th>\n",
       "      <th>Humidity</th>\n",
       "      <th>Cloudiness</th>\n",
       "      <th>Wind Speed</th>\n",
       "      <th>Date</th>\n",
       "    </tr>\n",
       "  </thead>\n",
       "  <tbody>\n",
       "    <tr>\n",
       "      <th>count</th>\n",
       "      <td>571.000000</td>\n",
       "      <td>571.000000</td>\n",
       "      <td>571.000000</td>\n",
       "      <td>571.000000</td>\n",
       "      <td>571.000000</td>\n",
       "      <td>571.000000</td>\n",
       "      <td>5.710000e+02</td>\n",
       "    </tr>\n",
       "    <tr>\n",
       "      <th>mean</th>\n",
       "      <td>20.540960</td>\n",
       "      <td>14.238157</td>\n",
       "      <td>70.677846</td>\n",
       "      <td>67.010508</td>\n",
       "      <td>52.345009</td>\n",
       "      <td>8.227040</td>\n",
       "      <td>1.627807e+09</td>\n",
       "    </tr>\n",
       "    <tr>\n",
       "      <th>std</th>\n",
       "      <td>33.596951</td>\n",
       "      <td>89.979563</td>\n",
       "      <td>14.823030</td>\n",
       "      <td>23.382477</td>\n",
       "      <td>39.449747</td>\n",
       "      <td>5.576788</td>\n",
       "      <td>3.072609e+02</td>\n",
       "    </tr>\n",
       "    <tr>\n",
       "      <th>min</th>\n",
       "      <td>-54.800000</td>\n",
       "      <td>-175.200000</td>\n",
       "      <td>26.490000</td>\n",
       "      <td>8.000000</td>\n",
       "      <td>0.000000</td>\n",
       "      <td>0.000000</td>\n",
       "      <td>1.627805e+09</td>\n",
       "    </tr>\n",
       "    <tr>\n",
       "      <th>25%</th>\n",
       "      <td>-7.739750</td>\n",
       "      <td>-64.699400</td>\n",
       "      <td>61.830000</td>\n",
       "      <td>53.000000</td>\n",
       "      <td>10.500000</td>\n",
       "      <td>4.030000</td>\n",
       "      <td>1.627806e+09</td>\n",
       "    </tr>\n",
       "    <tr>\n",
       "      <th>50%</th>\n",
       "      <td>25.293400</td>\n",
       "      <td>19.911000</td>\n",
       "      <td>72.010000</td>\n",
       "      <td>73.000000</td>\n",
       "      <td>57.000000</td>\n",
       "      <td>7.160000</td>\n",
       "      <td>1.627807e+09</td>\n",
       "    </tr>\n",
       "    <tr>\n",
       "      <th>75%</th>\n",
       "      <td>49.791850</td>\n",
       "      <td>86.873700</td>\n",
       "      <td>81.065000</td>\n",
       "      <td>85.500000</td>\n",
       "      <td>93.000000</td>\n",
       "      <td>11.755000</td>\n",
       "      <td>1.627807e+09</td>\n",
       "    </tr>\n",
       "    <tr>\n",
       "      <th>max</th>\n",
       "      <td>78.218600</td>\n",
       "      <td>179.316700</td>\n",
       "      <td>106.700000</td>\n",
       "      <td>100.000000</td>\n",
       "      <td>100.000000</td>\n",
       "      <td>29.640000</td>\n",
       "      <td>1.627807e+09</td>\n",
       "    </tr>\n",
       "  </tbody>\n",
       "</table>\n",
       "</div>"
      ],
      "text/plain": [
       "              Lat         Lng    Max Temp    Humidity  Cloudiness  Wind Speed  \\\n",
       "count  571.000000  571.000000  571.000000  571.000000  571.000000  571.000000   \n",
       "mean    20.540960   14.238157   70.677846   67.010508   52.345009    8.227040   \n",
       "std     33.596951   89.979563   14.823030   23.382477   39.449747    5.576788   \n",
       "min    -54.800000 -175.200000   26.490000    8.000000    0.000000    0.000000   \n",
       "25%     -7.739750  -64.699400   61.830000   53.000000   10.500000    4.030000   \n",
       "50%     25.293400   19.911000   72.010000   73.000000   57.000000    7.160000   \n",
       "75%     49.791850   86.873700   81.065000   85.500000   93.000000   11.755000   \n",
       "max     78.218600  179.316700  106.700000  100.000000  100.000000   29.640000   \n",
       "\n",
       "               Date  \n",
       "count  5.710000e+02  \n",
       "mean   1.627807e+09  \n",
       "std    3.072609e+02  \n",
       "min    1.627805e+09  \n",
       "25%    1.627806e+09  \n",
       "50%    1.627807e+09  \n",
       "75%    1.627807e+09  \n",
       "max    1.627807e+09  "
      ]
     },
     "execution_count": 118,
     "metadata": {},
     "output_type": "execute_result"
    }
   ],
   "source": []
  },
  {
   "cell_type": "markdown",
   "metadata": {},
   "source": [
    "## Inspect the data and remove the cities where the humidity > 100%.\n",
    "----\n",
    "Skip this step if there are no cities that have humidity > 100%. "
   ]
  },
  {
   "cell_type": "code",
   "execution_count": null,
   "metadata": {},
   "outputs": [],
   "source": []
  },
  {
   "cell_type": "code",
   "execution_count": 122,
   "metadata": {},
   "outputs": [
    {
     "data": {
      "text/plain": [
       "Int64Index([], dtype='int64')"
      ]
     },
     "execution_count": 122,
     "metadata": {},
     "output_type": "execute_result"
    }
   ],
   "source": [
    "#  Get the indices of cities that have humidity over 100%.\n",
    "# df.loc[df['Humidity'] > 100]\n",
    "humid_city_indeces = df.index[df['Humidity'] >100]\n",
    "humid_city_indeces"
   ]
  },
  {
   "cell_type": "code",
   "execution_count": 123,
   "metadata": {},
   "outputs": [
    {
     "data": {
      "text/html": [
       "<div>\n",
       "<style scoped>\n",
       "    .dataframe tbody tr th:only-of-type {\n",
       "        vertical-align: middle;\n",
       "    }\n",
       "\n",
       "    .dataframe tbody tr th {\n",
       "        vertical-align: top;\n",
       "    }\n",
       "\n",
       "    .dataframe thead th {\n",
       "        text-align: right;\n",
       "    }\n",
       "</style>\n",
       "<table border=\"1\" class=\"dataframe\">\n",
       "  <thead>\n",
       "    <tr style=\"text-align: right;\">\n",
       "      <th></th>\n",
       "      <th>City</th>\n",
       "      <th>Lat</th>\n",
       "      <th>Lng</th>\n",
       "      <th>Max Temp</th>\n",
       "      <th>Humidity</th>\n",
       "      <th>Cloudiness</th>\n",
       "      <th>Wind Speed</th>\n",
       "      <th>Country</th>\n",
       "      <th>Date</th>\n",
       "    </tr>\n",
       "  </thead>\n",
       "  <tbody>\n",
       "    <tr>\n",
       "      <th>0</th>\n",
       "      <td>yellowknife</td>\n",
       "      <td>62.4560</td>\n",
       "      <td>-114.3525</td>\n",
       "      <td>67.32</td>\n",
       "      <td>72.0</td>\n",
       "      <td>20.0</td>\n",
       "      <td>1.01</td>\n",
       "      <td>CA</td>\n",
       "      <td>1.627806e+09</td>\n",
       "    </tr>\n",
       "    <tr>\n",
       "      <th>1</th>\n",
       "      <td>keningau</td>\n",
       "      <td>5.3378</td>\n",
       "      <td>116.1602</td>\n",
       "      <td>86.45</td>\n",
       "      <td>69.0</td>\n",
       "      <td>96.0</td>\n",
       "      <td>4.54</td>\n",
       "      <td>MY</td>\n",
       "      <td>1.627806e+09</td>\n",
       "    </tr>\n",
       "    <tr>\n",
       "      <th>2</th>\n",
       "      <td>saint-joseph</td>\n",
       "      <td>-21.3667</td>\n",
       "      <td>55.6167</td>\n",
       "      <td>75.58</td>\n",
       "      <td>76.0</td>\n",
       "      <td>21.0</td>\n",
       "      <td>13.62</td>\n",
       "      <td>RE</td>\n",
       "      <td>1.627806e+09</td>\n",
       "    </tr>\n",
       "    <tr>\n",
       "      <th>3</th>\n",
       "      <td>krivodol</td>\n",
       "      <td>43.3744</td>\n",
       "      <td>23.4844</td>\n",
       "      <td>96.13</td>\n",
       "      <td>26.0</td>\n",
       "      <td>0.0</td>\n",
       "      <td>3.15</td>\n",
       "      <td>BG</td>\n",
       "      <td>1.627806e+09</td>\n",
       "    </tr>\n",
       "    <tr>\n",
       "      <th>4</th>\n",
       "      <td>puerto ayora</td>\n",
       "      <td>-0.7393</td>\n",
       "      <td>-90.3518</td>\n",
       "      <td>70.56</td>\n",
       "      <td>90.0</td>\n",
       "      <td>6.0</td>\n",
       "      <td>7.00</td>\n",
       "      <td>EC</td>\n",
       "      <td>1.627806e+09</td>\n",
       "    </tr>\n",
       "  </tbody>\n",
       "</table>\n",
       "</div>"
      ],
      "text/plain": [
       "           City      Lat       Lng  Max Temp  Humidity  Cloudiness  \\\n",
       "0   yellowknife  62.4560 -114.3525     67.32      72.0        20.0   \n",
       "1      keningau   5.3378  116.1602     86.45      69.0        96.0   \n",
       "2  saint-joseph -21.3667   55.6167     75.58      76.0        21.0   \n",
       "3      krivodol  43.3744   23.4844     96.13      26.0         0.0   \n",
       "4  puerto ayora  -0.7393  -90.3518     70.56      90.0         6.0   \n",
       "\n",
       "   Wind Speed Country          Date  \n",
       "0        1.01      CA  1.627806e+09  \n",
       "1        4.54      MY  1.627806e+09  \n",
       "2       13.62      RE  1.627806e+09  \n",
       "3        3.15      BG  1.627806e+09  \n",
       "4        7.00      EC  1.627806e+09  "
      ]
     },
     "execution_count": 123,
     "metadata": {},
     "output_type": "execute_result"
    }
   ],
   "source": [
    "# Make a new DataFrame equal to the city data to drop all humidity outliers by index.\n",
    "# Passing \"inplace=False\" will make a copy of the city_data DataFrame, which we call \"clean_city_data\".\n",
    "clean_city_data = df.drop(index=humid_city_indeces, inplace=False)\n",
    "clean_city_data.head()\n",
    "\n"
   ]
  },
  {
   "cell_type": "code",
   "execution_count": null,
   "metadata": {},
   "outputs": [],
   "source": [
    "\n"
   ]
  },
  {
   "cell_type": "markdown",
   "metadata": {},
   "source": [
    "## Plotting the Data\n",
    "* Use proper labeling of the plots using plot titles (including date of analysis) and axes labels.\n",
    "* Save the plotted figures as .pngs."
   ]
  },
  {
   "cell_type": "markdown",
   "metadata": {},
   "source": [
    "## Latitude vs. Temperature Plot"
   ]
  },
  {
   "cell_type": "code",
   "execution_count": 174,
   "metadata": {
    "tags": []
   },
   "outputs": [
    {
     "data": {
      "text/plain": [
       "<AxesSubplot:title={'center':'City Latitude vs. Max Temperature (08/01/21)'}, xlabel='Latitude', ylabel='Max Temperature (F)'>"
      ]
     },
     "execution_count": 174,
     "metadata": {},
     "output_type": "execute_result"
    },
    {
     "data": {
      "image/png": "[encoded data removed]",
      "text/plain": [
       "<Figure size 432x288 with 1 Axes>"
      ]
     },
     "metadata": {
      "needs_background": "light"
     },
     "output_type": "display_data"
    }
   ],
   "source": [
    "#Data should all be from the same day so use first index for title\n",
    "city_data_date = pd.to_datetime(df['Date'], unit='s')[0].strftime(\"%m/%d/%y\")\n",
    "clean_city_data.plot('Lat',\n",
    "                     'Max Temp',\n",
    "                     kind=\"scatter\",\n",
    "                     legend= False,\n",
    "                     xlabel =\"Latitude\",\n",
    "                     ylabel =\"Max Temperature (F)\",\n",
    "                     title = f'City Latitude vs. Max Temperature ({city_data_date})',\n",
    "                     grid=True,\n",
    "                    color='steelblue',\n",
    "                    marker='o')"
   ]
  },
  {
   "cell_type": "markdown",
   "metadata": {},
   "source": [
    "## Latitude vs. Humidity Plot"
   ]
  },
  {
   "cell_type": "code",
   "execution_count": 175,
   "metadata": {},
   "outputs": [
    {
     "data": {
      "text/plain": [
       "<AxesSubplot:title={'center':'City Latitude vs. Humidity (08/01/21)'}, xlabel='Latitude', ylabel='Humidity'>"
      ]
     },
     "execution_count": 175,
     "metadata": {},
     "output_type": "execute_result"
    },
    {
     "data": {
      "image/png": "[encoded data removed]",
      "text/plain": [
       "<Figure size 432x288 with 1 Axes>"
      ]
     },
     "metadata": {
      "needs_background": "light"
     },
     "output_type": "display_data"
    }
   ],
   "source": [
    "clean_city_data.plot('Lat',\n",
    "                     'Humidity',\n",
    "                     kind=\"scatter\",\n",
    "                     legend= False,\n",
    "                     xlabel =\"Latitude\",\n",
    "                     ylabel =\"Humidity\",\n",
    "                     title = f'City Latitude vs. Humidity ({city_data_date})',\n",
    "                     color='steelblue',\n",
    "                     grid=True)\n"
   ]
  },
  {
   "cell_type": "markdown",
   "metadata": {},
   "source": [
    "## Latitude vs. Cloudiness Plot"
   ]
  },
  {
   "cell_type": "code",
   "execution_count": 176,
   "metadata": {},
   "outputs": [
    {
     "data": {
      "text/plain": [
       "<AxesSubplot:title={'center':'City Latitude vs. Cloudiness (08/01/21)'}, xlabel='Latitude', ylabel='Cloudiness'>"
      ]
     },
     "execution_count": 176,
     "metadata": {},
     "output_type": "execute_result"
    },
    {
     "data": {
      "image/png": "[encoded data removed]",
      "text/plain": [
       "<Figure size 432x288 with 1 Axes>"
      ]
     },
     "metadata": {
      "needs_background": "light"
     },
     "output_type": "display_data"
    }
   ],
   "source": [
    "clean_city_data.plot('Lat',\n",
    "                     'Cloudiness',\n",
    "                     kind=\"scatter\",\n",
    "                     legend= False,\n",
    "                     xlabel =\"Latitude\",\n",
    "                     ylabel =\"Cloudiness\",\n",
    "                     title = f'City Latitude vs. Cloudiness ({city_data_date})',\n",
    "                     color='steelblue',\n",
    "                     grid=True)"
   ]
  },
  {
   "cell_type": "markdown",
   "metadata": {},
   "source": [
    "## Latitude vs. Wind Speed Plot"
   ]
  },
  {
   "cell_type": "code",
   "execution_count": 177,
   "metadata": {},
   "outputs": [
    {
     "data": {
      "text/plain": [
       "<AxesSubplot:title={'center':'City Latitude vs. Wind Speed (08/01/21)'}, xlabel='Latitude', ylabel='Wind Speed'>"
      ]
     },
     "execution_count": 177,
     "metadata": {},
     "output_type": "execute_result"
    },
    {
     "data": {
      "image/png": "[encoded data removed]",
      "text/plain": [
       "<Figure size 432x288 with 1 Axes>"
      ]
     },
     "metadata": {
      "needs_background": "light"
     },
     "output_type": "display_data"
    }
   ],
   "source": [
    "clean_city_data.plot('Lat',\n",
    "                     'Wind Speed',\n",
    "                     kind=\"scatter\",\n",
    "                     legend= False,\n",
    "                     xlabel =\"Latitude\",\n",
    "                     ylabel =\"Wind Speed\",\n",
    "                     title = f'City Latitude vs. Wind Speed ({city_data_date})',\n",
    "                     color='steelblue',\n",
    "                     grid=True)"
   ]
  },
  {
   "cell_type": "markdown",
   "metadata": {},
   "source": [
    "## Linear Regression"
   ]
  },
  {
   "cell_type": "code",
   "execution_count": null,
   "metadata": {},
   "outputs": [],
   "source": []
  },
  {
   "cell_type": "markdown",
   "metadata": {},
   "source": [
    "####  Northern Hemisphere - Max Temp vs. Latitude Linear Regression"
   ]
  },
  {
   "cell_type": "code",
   "execution_count": 25,
   "metadata": {},
   "outputs": [
    {
     "name": "stdout",
     "output_type": "stream",
     "text": [
      "The r-value is: 0.46937863826630627\n"
     ]
    },
    {
     "data": {
      "image/png": "[encoded data removed]",
      "text/plain": [
       "<Figure size 432x288 with 1 Axes>"
      ]
     },
     "metadata": {
      "needs_background": "light"
     },
     "output_type": "display_data"
    }
   ],
   "source": []
  },
  {
   "cell_type": "markdown",
   "metadata": {},
   "source": [
    "####  Southern Hemisphere - Max Temp vs. Latitude Linear Regression"
   ]
  },
  {
   "cell_type": "code",
   "execution_count": 26,
   "metadata": {},
   "outputs": [
    {
     "name": "stdout",
     "output_type": "stream",
     "text": [
      "The r-value is: 0.6082708688906918\n"
     ]
    },
    {
     "data": {
      "image/png": "[encoded data removed]",
      "text/plain": [
       "<Figure size 432x288 with 1 Axes>"
      ]
     },
     "metadata": {
      "needs_background": "light"
     },
     "output_type": "display_data"
    }
   ],
   "source": []
  },
  {
   "cell_type": "markdown",
   "metadata": {},
   "source": [
    "####  Northern Hemisphere - Humidity (%) vs. Latitude Linear Regression"
   ]
  },
  {
   "cell_type": "code",
   "execution_count": 27,
   "metadata": {},
   "outputs": [
    {
     "name": "stdout",
     "output_type": "stream",
     "text": [
      "The r-value is: 0.000543987878808455\n"
     ]
    },
    {
     "data": {
      "image/png": "[encoded data removed]",
      "text/plain": [
       "<Figure size 432x288 with 1 Axes>"
      ]
     },
     "metadata": {
      "needs_background": "light"
     },
     "output_type": "display_data"
    }
   ],
   "source": []
  },
  {
   "cell_type": "markdown",
   "metadata": {},
   "source": [
    "####  Southern Hemisphere - Humidity (%) vs. Latitude Linear Regression"
   ]
  },
  {
   "cell_type": "code",
   "execution_count": 28,
   "metadata": {},
   "outputs": [
    {
     "name": "stdout",
     "output_type": "stream",
     "text": [
      "The r-value is: 0.014985174297345524\n"
     ]
    },
    {
     "data": {
      "image/png": "[encoded data removed]",
      "text/plain": [
       "<Figure size 432x288 with 1 Axes>"
      ]
     },
     "metadata": {
      "needs_background": "light"
     },
     "output_type": "display_data"
    }
   ],
   "source": []
  },
  {
   "cell_type": "markdown",
   "metadata": {},
   "source": [
    "####  Northern Hemisphere - Cloudiness (%) vs. Latitude Linear Regression"
   ]
  },
  {
   "cell_type": "code",
   "execution_count": 29,
   "metadata": {},
   "outputs": [
    {
     "name": "stdout",
     "output_type": "stream",
     "text": [
      "The r-value is: 0.0020898727664228514\n"
     ]
    },
    {
     "data": {
      "image/png": "[encoded data removed]",
      "text/plain": [
       "<Figure size 432x288 with 1 Axes>"
      ]
     },
     "metadata": {
      "needs_background": "light"
     },
     "output_type": "display_data"
    }
   ],
   "source": []
  },
  {
   "cell_type": "markdown",
   "metadata": {},
   "source": [
    "####  Southern Hemisphere - Cloudiness (%) vs. Latitude Linear Regression"
   ]
  },
  {
   "cell_type": "code",
   "execution_count": 30,
   "metadata": {},
   "outputs": [
    {
     "name": "stdout",
     "output_type": "stream",
     "text": [
      "The r-value is: 0.0035263772085582894\n"
     ]
    },
    {
     "data": {
      "image/png": "[encoded data removed]",
      "text/plain": [
       "<Figure size 432x288 with 1 Axes>"
      ]
     },
     "metadata": {
      "needs_background": "light"
     },
     "output_type": "display_data"
    }
   ],
   "source": []
  },
  {
   "cell_type": "markdown",
   "metadata": {},
   "source": [
    "####  Northern Hemisphere - Wind Speed (mph) vs. Latitude Linear Regression"
   ]
  },
  {
   "cell_type": "code",
   "execution_count": 31,
   "metadata": {},
   "outputs": [
    {
     "name": "stdout",
     "output_type": "stream",
     "text": [
      "The r-value is: 0.04019723576144484\n"
     ]
    },
    {
     "data": {
      "image/png": "[encoded data removed]",
      "text/plain": [
       "<Figure size 432x288 with 1 Axes>"
      ]
     },
     "metadata": {
      "needs_background": "light"
     },
     "output_type": "display_data"
    }
   ],
   "source": []
  },
  {
   "cell_type": "markdown",
   "metadata": {},
   "source": [
    "####  Southern Hemisphere - Wind Speed (mph) vs. Latitude Linear Regression"
   ]
  },
  {
   "cell_type": "code",
   "execution_count": 32,
   "metadata": {},
   "outputs": [
    {
     "name": "stdout",
     "output_type": "stream",
     "text": [
      "The r-value is: 0.017128274759839232\n"
     ]
    },
    {
     "data": {
      "image/png": "[encoded data removed]",
      "text/plain": [
       "<Figure size 432x288 with 1 Axes>"
      ]
     },
     "metadata": {
      "needs_background": "light"
     },
     "output_type": "display_data"
    }
   ],
   "source": []
  },
  {
   "cell_type": "code",
   "execution_count": null,
   "metadata": {},
   "outputs": [],
   "source": []
  }
 ],
 "metadata": {
  "anaconda-cloud": {},
  "kernel_info": {
   "name": "python3"
  },
  "kernelspec": {
   "display_name": "Python 3",
   "language": "python",
   "name": "python3"
  },
  "language_info": {
   "codemirror_mode": {
    "name": "ipython",
    "version": 3
   },
   "file_extension": ".py",
   "mimetype": "text/x-python",
   "name": "python",
   "nbconvert_exporter": "python",
   "pygments_lexer": "ipython3",
   "version": "3.8.8"
  },
  "latex_envs": {
   "LaTeX_envs_menu_present": true,
   "autoclose": false,
   "autocomplete": true,
   "bibliofile": "biblio.bib",
   "cite_by": "apalike",
   "current_citInitial": 1,
   "eqLabelWithNumbers": true,
   "eqNumInitial": 1,
   "hotkeys": {
    "equation": "Ctrl-E",
    "itemize": "Ctrl-I"
   },
   "labels_anchors": false,
   "latex_user_defs": false,
   "report_style_numbering": false,
   "user_envs_cfg": false
  },
  "nteract": {
   "version": "0.12.3"
  }
 },
 "nbformat": 4,
 "nbformat_minor": 4
}
